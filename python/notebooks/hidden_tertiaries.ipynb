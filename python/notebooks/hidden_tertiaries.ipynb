{
 "cells": [
  {
   "cell_type": "markdown",
   "id": "a7cc511c-c7e4-4a93-ac36-947a75bad762",
   "metadata": {},
   "source": [
    "# Hidden tertiaries"
   ]
  },
  {
   "cell_type": "code",
   "execution_count": 1,
   "id": "35ddfd81-9a87-4d41-ba04-74d2e2762ab3",
   "metadata": {
    "tags": []
   },
   "outputs": [],
   "source": [
    "%load_ext autoreload\n",
    "%autoreload 2\n",
    "\n",
    "import matplotlib.pyplot as plt\n",
    "import numpy as np\n",
    "import pandas as pd\n",
    "from scipy.optimize import curve_fit\n",
    "from sklearn.model_selection import train_test_split\n",
    "\n",
    "from binaryStatistics.base_distribution import BaseDistribution\n",
    "from binaryStatistics.distributions import Uniform, Thermal, PowerLaw, Sine, VelTilde, PhiAngle\n",
    "from binaryStatistics.plot_utils import plot_histogram"
   ]
  },
  {
   "cell_type": "code",
   "execution_count": 2,
   "id": "70f1b5e6-b7b2-4ec2-b0e6-a83823316108",
   "metadata": {
    "tags": []
   },
   "outputs": [],
   "source": [
    "def get_companions_mass(Mag1, Mag2, label=\"without\"):\n",
    "    \n",
    "    def get_kappa(delta_Mag):\n",
    "        dM = delta_Mag.random_sample(0.01,12,1)\n",
    "        return 1/(1 + 10**(-0.4*dM))[0]\n",
    "    \n",
    "    def get_mass(mag):\n",
    "        return 10**(0.0725*(4.76 - mag))\n",
    "    \n",
    "    gamma = -0.7\n",
    "    delta_Mag = PowerLaw(\n",
    "        dist_parameters={\n",
    "            \"C\": (1 + gamma)/(12**gamma),\n",
    "            \"alpha\": gamma,\n",
    "        }\n",
    "    )\n",
    "    kappa = get_kappa(delta_Mag)\n",
    "    \n",
    "    if label == \"without\":\n",
    "        return {\n",
    "            \"mass_A_1\": get_mass(Mag1),\n",
    "            \"mass_A_2\": 0.0,\n",
    "            \"mass_B_1\": get_mass(Mag2),\n",
    "            \"mass_B_2\": 0.0,\n",
    "        }\n",
    "    elif label == \"more\":\n",
    "        if Mag1 > Mag2:\n",
    "            host = -2.5*np.log10(kappa) + Mag1\n",
    "            comp = -2.5*np.log10(1 - kappa) + Mag1\n",
    "            \n",
    "            return {\n",
    "                \"mass_A_1\": get_mass(host),\n",
    "                \"mass_A_2\": get_mass(comp),\n",
    "                \"mass_B_1\": get_mass(Mag2),\n",
    "                \"mass_B_2\": 0.0,\n",
    "            }\n",
    "        else:\n",
    "            host = -2.5*np.log10(kappa) + Mag2\n",
    "            comp = -2.5*np.log10(1 - kappa) + Mag2\n",
    "            \n",
    "            return {\n",
    "                \"mass_A_1\": get_mass(Mag1),\n",
    "                \"mass_A_2\": 0.0,\n",
    "                \"mass_B_1\": get_mass(host),\n",
    "                \"mass_B_2\": get_mass(comp),\n",
    "            }\n",
    "            \n",
    "    elif label == \"less\":\n",
    "        if Mag1 < Mag2:\n",
    "            host = -2.5*np.log10(kappa) + Mag1\n",
    "            comp = -2.5*np.log10(1 - kappa) + Mag1\n",
    "            \n",
    "            return {\n",
    "                \"mass_A_1\": get_mass(host),\n",
    "                \"mass_A_2\": get_mass(comp),\n",
    "                \"mass_B_1\": get_mass(Mag2),\n",
    "                \"mass_B_2\": 0.0,\n",
    "            }\n",
    "        else:\n",
    "            host = -2.5*np.log10(kappa) + Mag2\n",
    "            comp = -2.5*np.log10(1 - kappa) + Mag2\n",
    "            \n",
    "            return {\n",
    "                \"mass_A_1\": get_mass(Mag2),\n",
    "                \"mass_A_2\": 0.0,\n",
    "                \"mass_B_1\": get_mass(host),\n",
    "                \"mass_B_2\": get_mass(comp),\n",
    "            }\n",
    "        \n",
    "    elif label == \"both\":\n",
    "        kappa = get_kappa(delta_Mag)\n",
    "        host_1 = -2.5*np.log10(kappa) + Mag1\n",
    "        comp_1 = -2.5*np.log10(1 - kappa) + Mag1\n",
    "        kappa = get_kappa(delta_Mag)\n",
    "        host_2 = -2.5*np.log10(kappa) + Mag2\n",
    "        comp_2 = -2.5*np.log10(1 - kappa) + Mag2\n",
    "        \n",
    "        return {\n",
    "            \"mass_A_1\": get_mass(host_1),\n",
    "            \"mass_A_2\": get_mass(comp_1),\n",
    "            \"mass_B_1\": get_mass(host_2),\n",
    "            \"mass_B_2\": get_mass(comp_2),\n",
    "        }"
   ]
  },
  {
   "cell_type": "code",
   "execution_count": 3,
   "id": "2acae4f2-8286-4d64-92d1-ceab96f4f9cc",
   "metadata": {
    "tags": []
   },
   "outputs": [],
   "source": [
    "## With this line we extract all the data in the file WB450.csv\n",
    "binary_dataframe = pd.read_csv(\"../data/667Bp_0.8.csv\")"
   ]
  },
  {
   "cell_type": "code",
   "execution_count": 4,
   "id": "7dfca9bf-f622-401a-9165-6a63b0024d64",
   "metadata": {
    "tags": []
   },
   "outputs": [
    {
     "data": {
      "text/html": [
       "<div>\n",
       "<style scoped>\n",
       "    .dataframe tbody tr th:only-of-type {\n",
       "        vertical-align: middle;\n",
       "    }\n",
       "\n",
       "    .dataframe tbody tr th {\n",
       "        vertical-align: top;\n",
       "    }\n",
       "\n",
       "    .dataframe thead th {\n",
       "        text-align: right;\n",
       "    }\n",
       "</style>\n",
       "<table border=\"1\" class=\"dataframe\">\n",
       "  <thead>\n",
       "    <tr style=\"text-align: right;\">\n",
       "      <th></th>\n",
       "      <th>Unnamed: 0</th>\n",
       "      <th>SOURCE_ID_PRIMARY</th>\n",
       "      <th>ra1</th>\n",
       "      <th>dec1</th>\n",
       "      <th>mag1</th>\n",
       "      <th>MAG1</th>\n",
       "      <th>PARALLAX1</th>\n",
       "      <th>parallax_error1</th>\n",
       "      <th>DIST1</th>\n",
       "      <th>RUWE1</th>\n",
       "      <th>...</th>\n",
       "      <th>vRA</th>\n",
       "      <th>vRAerr</th>\n",
       "      <th>vDEC</th>\n",
       "      <th>vDECerr</th>\n",
       "      <th>V2D</th>\n",
       "      <th>Log10vRA</th>\n",
       "      <th>Log10vDEC</th>\n",
       "      <th>Log10r</th>\n",
       "      <th>r</th>\n",
       "      <th>M</th>\n",
       "    </tr>\n",
       "  </thead>\n",
       "  <tbody>\n",
       "    <tr>\n",
       "      <th>0</th>\n",
       "      <td>0</td>\n",
       "      <td>4.892827e+16</td>\n",
       "      <td>62.659863</td>\n",
       "      <td>20.039590</td>\n",
       "      <td>8.637080</td>\n",
       "      <td>8.637080</td>\n",
       "      <td>19.120252</td>\n",
       "      <td>0.016533</td>\n",
       "      <td>52.300567</td>\n",
       "      <td>1.149334</td>\n",
       "      <td>...</td>\n",
       "      <td>1.414944</td>\n",
       "      <td>0.027036</td>\n",
       "      <td>1.007481</td>\n",
       "      <td>(0.10233914394539495,)</td>\n",
       "      <td>1.736976</td>\n",
       "      <td>0.150739</td>\n",
       "      <td>0.003237</td>\n",
       "      <td>-3.054217</td>\n",
       "      <td>0.000883</td>\n",
       "      <td>1.140540</td>\n",
       "    </tr>\n",
       "    <tr>\n",
       "      <th>1</th>\n",
       "      <td>1</td>\n",
       "      <td>5.372056e+16</td>\n",
       "      <td>62.352435</td>\n",
       "      <td>23.464026</td>\n",
       "      <td>7.798275</td>\n",
       "      <td>7.798275</td>\n",
       "      <td>14.891271</td>\n",
       "      <td>0.019507</td>\n",
       "      <td>67.153435</td>\n",
       "      <td>1.070155</td>\n",
       "      <td>...</td>\n",
       "      <td>0.882973</td>\n",
       "      <td>0.072469</td>\n",
       "      <td>1.382309</td>\n",
       "      <td>(0.06742163043034524,)</td>\n",
       "      <td>1.640250</td>\n",
       "      <td>-0.054053</td>\n",
       "      <td>0.140605</td>\n",
       "      <td>-2.813512</td>\n",
       "      <td>0.001536</td>\n",
       "      <td>1.258145</td>\n",
       "    </tr>\n",
       "    <tr>\n",
       "      <th>2</th>\n",
       "      <td>2</td>\n",
       "      <td>7.716122e+16</td>\n",
       "      <td>32.717524</td>\n",
       "      <td>13.682958</td>\n",
       "      <td>4.862433</td>\n",
       "      <td>4.862433</td>\n",
       "      <td>23.304385</td>\n",
       "      <td>0.028325</td>\n",
       "      <td>42.910379</td>\n",
       "      <td>1.113712</td>\n",
       "      <td>...</td>\n",
       "      <td>0.609415</td>\n",
       "      <td>0.065854</td>\n",
       "      <td>0.283278</td>\n",
       "      <td>(0.04558037119673894,)</td>\n",
       "      <td>0.672036</td>\n",
       "      <td>-0.215087</td>\n",
       "      <td>-0.547788</td>\n",
       "      <td>-2.902558</td>\n",
       "      <td>0.001252</td>\n",
       "      <td>1.844137</td>\n",
       "    </tr>\n",
       "    <tr>\n",
       "      <th>3</th>\n",
       "      <td>3</td>\n",
       "      <td>1.049989e+17</td>\n",
       "      <td>28.829107</td>\n",
       "      <td>24.292369</td>\n",
       "      <td>7.350453</td>\n",
       "      <td>7.350453</td>\n",
       "      <td>16.623353</td>\n",
       "      <td>0.017599</td>\n",
       "      <td>60.156335</td>\n",
       "      <td>0.883072</td>\n",
       "      <td>...</td>\n",
       "      <td>0.206057</td>\n",
       "      <td>0.057484</td>\n",
       "      <td>0.092202</td>\n",
       "      <td>(0.05333571922184351,)</td>\n",
       "      <td>0.225745</td>\n",
       "      <td>-0.686012</td>\n",
       "      <td>-1.035257</td>\n",
       "      <td>-1.488954</td>\n",
       "      <td>0.032437</td>\n",
       "      <td>1.387181</td>\n",
       "    </tr>\n",
       "    <tr>\n",
       "      <th>4</th>\n",
       "      <td>4</td>\n",
       "      <td>9.869261e+16</td>\n",
       "      <td>29.196527</td>\n",
       "      <td>23.051061</td>\n",
       "      <td>5.024877</td>\n",
       "      <td>5.024877</td>\n",
       "      <td>29.509924</td>\n",
       "      <td>0.022391</td>\n",
       "      <td>33.886906</td>\n",
       "      <td>0.915890</td>\n",
       "      <td>...</td>\n",
       "      <td>0.337392</td>\n",
       "      <td>0.027361</td>\n",
       "      <td>0.257691</td>\n",
       "      <td>(0.011056875463707696,)</td>\n",
       "      <td>0.424545</td>\n",
       "      <td>-0.471865</td>\n",
       "      <td>-0.588901</td>\n",
       "      <td>-2.012038</td>\n",
       "      <td>0.009727</td>\n",
       "      <td>1.529926</td>\n",
       "    </tr>\n",
       "  </tbody>\n",
       "</table>\n",
       "<p>5 rows × 58 columns</p>\n",
       "</div>"
      ],
      "text/plain": [
       "   Unnamed: 0  SOURCE_ID_PRIMARY        ra1       dec1      mag1      MAG1  \\\n",
       "0           0       4.892827e+16  62.659863  20.039590  8.637080  8.637080   \n",
       "1           1       5.372056e+16  62.352435  23.464026  7.798275  7.798275   \n",
       "2           2       7.716122e+16  32.717524  13.682958  4.862433  4.862433   \n",
       "3           3       1.049989e+17  28.829107  24.292369  7.350453  7.350453   \n",
       "4           4       9.869261e+16  29.196527  23.051061  5.024877  5.024877   \n",
       "\n",
       "   PARALLAX1  parallax_error1      DIST1     RUWE1  ...       vRA    vRAerr  \\\n",
       "0  19.120252         0.016533  52.300567  1.149334  ...  1.414944  0.027036   \n",
       "1  14.891271         0.019507  67.153435  1.070155  ...  0.882973  0.072469   \n",
       "2  23.304385         0.028325  42.910379  1.113712  ...  0.609415  0.065854   \n",
       "3  16.623353         0.017599  60.156335  0.883072  ...  0.206057  0.057484   \n",
       "4  29.509924         0.022391  33.886906  0.915890  ...  0.337392  0.027361   \n",
       "\n",
       "       vDEC                  vDECerr       V2D  Log10vRA  Log10vDEC    Log10r  \\\n",
       "0  1.007481   (0.10233914394539495,)  1.736976  0.150739   0.003237 -3.054217   \n",
       "1  1.382309   (0.06742163043034524,)  1.640250 -0.054053   0.140605 -2.813512   \n",
       "2  0.283278   (0.04558037119673894,)  0.672036 -0.215087  -0.547788 -2.902558   \n",
       "3  0.092202   (0.05333571922184351,)  0.225745 -0.686012  -1.035257 -1.488954   \n",
       "4  0.257691  (0.011056875463707696,)  0.424545 -0.471865  -0.588901 -2.012038   \n",
       "\n",
       "          r         M  \n",
       "0  0.000883  1.140540  \n",
       "1  0.001536  1.258145  \n",
       "2  0.001252  1.844137  \n",
       "3  0.032437  1.387181  \n",
       "4  0.009727  1.529926  \n",
       "\n",
       "[5 rows x 58 columns]"
      ]
     },
     "execution_count": 4,
     "metadata": {},
     "output_type": "execute_result"
    }
   ],
   "source": [
    "binary_dataframe.head()"
   ]
  },
  {
   "cell_type": "markdown",
   "id": "fb10ede3-5276-4773-a115-0246db9e4f84",
   "metadata": {},
   "source": [
    "1. Split the CSV dataset into a 40\\% with companion(s) and 60\\% without companion(s)"
   ]
  },
  {
   "cell_type": "code",
   "execution_count": 5,
   "id": "4f53e844-827f-48ff-b8d7-e2c27c5e810d",
   "metadata": {
    "tags": []
   },
   "outputs": [],
   "source": [
    "bd_without_comp, bd_with_comp = train_test_split(binary_dataframe, test_size=0.4, train_size=0.6)"
   ]
  },
  {
   "cell_type": "markdown",
   "id": "bf549c5b-44b2-49cb-b067-d4408460b4a2",
   "metadata": {},
   "source": [
    "2. The 40\\% with companion is splitted into 30\\% binaries where both components have hidden companions, and 70\\% where only one does. "
   ]
  },
  {
   "cell_type": "code",
   "execution_count": 6,
   "id": "3c925bf9-c92a-44ad-9312-b3bbef2ff512",
   "metadata": {
    "tags": []
   },
   "outputs": [],
   "source": [
    "bd_with_comp_one, bd_with_comp_both = train_test_split(bd_with_comp, test_size=0.3, train_size=0.7)"
   ]
  },
  {
   "cell_type": "markdown",
   "id": "197167a5-3c45-43fc-98c9-9ba17f3a5870",
   "metadata": {},
   "source": [
    "3. Finally, this remaining 70\\% is splitted into a 30\\% where the companion is in the component with less luminosity, and 40\\% where the companion is in the component of greater luminosity."
   ]
  },
  {
   "cell_type": "code",
   "execution_count": 7,
   "id": "8ad3f4eb-ac68-4945-a852-4a6c4f263d58",
   "metadata": {
    "tags": []
   },
   "outputs": [],
   "source": [
    "bd_with_comp_more, bd_with_comp_less = train_test_split(bd_with_comp_one, test_size=0.3/0.7, train_size=0.4/0.7)"
   ]
  },
  {
   "cell_type": "markdown",
   "id": "c26ed9f2-14c3-4dc3-bf6b-5367ebb86adb",
   "metadata": {},
   "source": [
    "4. Using Pandas' apply method, we can apply the `get_companions_mass` functions to obtain the new columns `mass_comp_1` and `mass_comp_2`. This columns contain the mass of the component (1 and 2) plus the mass of the hidden companion, if it is the case. "
   ]
  },
  {
   "cell_type": "code",
   "execution_count": 8,
   "id": "67829047-16d7-4c9b-96ac-58495a9b7ec1",
   "metadata": {
    "tags": []
   },
   "outputs": [],
   "source": [
    "bd_without_comp[[\"mass_A_1\",\"mass_A_2\",\"mass_B_1\",\"mass_B_2\"]] = bd_without_comp.apply(lambda x: get_companions_mass(x.MAG1, x.MAG2, label=\"without\"), axis=1, result_type='expand')\n",
    "bd_with_comp_both[[\"mass_A_1\",\"mass_A_2\",\"mass_B_1\",\"mass_B_2\"]] = bd_with_comp_both.apply(lambda x: get_companions_mass(x.MAG1, x.MAG2, label=\"both\"), axis=1, result_type='expand')\n",
    "bd_with_comp_more[[\"mass_A_1\",\"mass_A_2\",\"mass_B_1\",\"mass_B_2\"]] = bd_with_comp_more.apply(lambda x: get_companions_mass(x.MAG1, x.MAG2, label=\"more\"), axis=1, result_type='expand')\n",
    "bd_with_comp_less[[\"mass_A_1\",\"mass_A_2\",\"mass_B_1\",\"mass_B_2\"]] = bd_with_comp_less.apply(lambda x: get_companions_mass(x.MAG1, x.MAG2, label=\"less\"), axis=1, result_type='expand')"
   ]
  },
  {
   "cell_type": "code",
   "execution_count": 79,
   "id": "668d9f69-ba69-472c-a52d-e7fc0ab3921f",
   "metadata": {
    "tags": []
   },
   "outputs": [],
   "source": [
    "new_binary_dataframe = pd.concat([bd_without_comp, bd_with_comp_both, bd_with_comp_more, bd_with_comp_less])\n",
    "new_binary_dataframe[\"M_A\"] = new_binary_dataframe[\"mass_A_1\"] + new_binary_dataframe[\"mass_A_2\"]\n",
    "new_binary_dataframe[\"M_B\"] = new_binary_dataframe[\"mass_B_1\"] + new_binary_dataframe[\"mass_B_2\"]\n",
    "new_binary_dataframe[\"M_modif\"] = new_binary_dataframe[\"mass_A_1\"] + new_binary_dataframe[\"mass_A_2\"] + new_binary_dataframe[\"mass_B_1\"] + new_binary_dataframe[\"mass_B_2\"]"
   ]
  },
  {
   "cell_type": "code",
   "execution_count": 80,
   "id": "1ffa2e77-54c7-4b37-9a73-5cbd39abd8c9",
   "metadata": {
    "tags": []
   },
   "outputs": [
    {
     "name": "stdout",
     "output_type": "stream",
     "text": [
      "<class 'pandas.core.frame.DataFrame'>\n",
      "RangeIndex: 667 entries, 0 to 666\n",
      "Data columns (total 58 columns):\n",
      " #   Column               Non-Null Count  Dtype  \n",
      "---  ------               --------------  -----  \n",
      " 0   Unnamed: 0           667 non-null    int64  \n",
      " 1   SOURCE_ID_PRIMARY    667 non-null    float64\n",
      " 2   ra1                  667 non-null    float64\n",
      " 3   dec1                 667 non-null    float64\n",
      " 4   mag1                 667 non-null    float64\n",
      " 5   MAG1                 667 non-null    float64\n",
      " 6   PARALLAX1            667 non-null    float64\n",
      " 7   parallax_error1      667 non-null    float64\n",
      " 8   DIST1                667 non-null    float64\n",
      " 9   RUWE1                667 non-null    float64\n",
      " 10  PMRA1                667 non-null    float64\n",
      " 11  PMRA_ERROR1          667 non-null    float64\n",
      " 12  PMDEC1               667 non-null    float64\n",
      " 13  PMDEC_ERROR1         667 non-null    float64\n",
      " 14  BminusR1             667 non-null    float64\n",
      " 15  mass_calc1           667 non-null    float64\n",
      " 16  mass_flame1          667 non-null    float64\n",
      " 17  mass_flame_upper1    667 non-null    float64\n",
      " 18  mass_flame_lower1    667 non-null    float64\n",
      " 19  age_flame1           667 non-null    float64\n",
      " 20  age_flame_upper1     667 non-null    float64\n",
      " 21  age_flame_lower1     667 non-null    float64\n",
      " 22  PROB1                667 non-null    float64\n",
      " 23  SOURCE_ID_SECONDARY  667 non-null    float64\n",
      " 24  ra2                  667 non-null    float64\n",
      " 25  dec2                 667 non-null    float64\n",
      " 26  mag2                 667 non-null    float64\n",
      " 27  MAG2                 667 non-null    float64\n",
      " 28  PARALLAX2            667 non-null    float64\n",
      " 29  parallax_error2      667 non-null    float64\n",
      " 30  DIST2                667 non-null    float64\n",
      " 31  RUWE2                667 non-null    float64\n",
      " 32  PMRA2                667 non-null    float64\n",
      " 33  PMRA_ERROR2          667 non-null    float64\n",
      " 34  PMDEC2               667 non-null    float64\n",
      " 35  PMDEC_ERROR2         667 non-null    float64\n",
      " 36  BminusR2             667 non-null    float64\n",
      " 37  mass_calc2           667 non-null    float64\n",
      " 38  mass_flame2          667 non-null    float64\n",
      " 39  mass_flame_upper2    667 non-null    float64\n",
      " 40  mass_flame_lower2    667 non-null    float64\n",
      " 41  age_flame2           667 non-null    float64\n",
      " 42  age_flame_upper2     667 non-null    float64\n",
      " 43  age_flame_lower2     667 non-null    float64\n",
      " 44  PROB2                667 non-null    float64\n",
      " 45  DIST                 667 non-null    float64\n",
      " 46  RA_MEAN              667 non-null    float64\n",
      " 47  DEC_MEAN             667 non-null    float64\n",
      " 48  vRA                  667 non-null    float64\n",
      " 49  vRAerr               667 non-null    float64\n",
      " 50  vDEC                 667 non-null    float64\n",
      " 51  vDECerr              667 non-null    object \n",
      " 52  V2D                  667 non-null    float64\n",
      " 53  Log10vRA             667 non-null    float64\n",
      " 54  Log10vDEC            667 non-null    float64\n",
      " 55  Log10r               667 non-null    float64\n",
      " 56  r                    667 non-null    float64\n",
      " 57  M                    667 non-null    float64\n",
      "dtypes: float64(56), int64(1), object(1)\n",
      "memory usage: 302.4+ KB\n"
     ]
    }
   ],
   "source": [
    "binary_dataframe.info()"
   ]
  },
  {
   "cell_type": "code",
   "execution_count": 81,
   "id": "f6af5ba5-e141-4983-8019-5d83b670c355",
   "metadata": {
    "tags": []
   },
   "outputs": [
    {
     "name": "stdout",
     "output_type": "stream",
     "text": [
      "<class 'pandas.core.frame.DataFrame'>\n",
      "Index: 667 entries, 382 to 508\n",
      "Data columns (total 65 columns):\n",
      " #   Column               Non-Null Count  Dtype  \n",
      "---  ------               --------------  -----  \n",
      " 0   Unnamed: 0           667 non-null    int64  \n",
      " 1   SOURCE_ID_PRIMARY    667 non-null    float64\n",
      " 2   ra1                  667 non-null    float64\n",
      " 3   dec1                 667 non-null    float64\n",
      " 4   mag1                 667 non-null    float64\n",
      " 5   MAG1                 667 non-null    float64\n",
      " 6   PARALLAX1            667 non-null    float64\n",
      " 7   parallax_error1      667 non-null    float64\n",
      " 8   DIST1                667 non-null    float64\n",
      " 9   RUWE1                667 non-null    float64\n",
      " 10  PMRA1                667 non-null    float64\n",
      " 11  PMRA_ERROR1          667 non-null    float64\n",
      " 12  PMDEC1               667 non-null    float64\n",
      " 13  PMDEC_ERROR1         667 non-null    float64\n",
      " 14  BminusR1             667 non-null    float64\n",
      " 15  mass_calc1           667 non-null    float64\n",
      " 16  mass_flame1          667 non-null    float64\n",
      " 17  mass_flame_upper1    667 non-null    float64\n",
      " 18  mass_flame_lower1    667 non-null    float64\n",
      " 19  age_flame1           667 non-null    float64\n",
      " 20  age_flame_upper1     667 non-null    float64\n",
      " 21  age_flame_lower1     667 non-null    float64\n",
      " 22  PROB1                667 non-null    float64\n",
      " 23  SOURCE_ID_SECONDARY  667 non-null    float64\n",
      " 24  ra2                  667 non-null    float64\n",
      " 25  dec2                 667 non-null    float64\n",
      " 26  mag2                 667 non-null    float64\n",
      " 27  MAG2                 667 non-null    float64\n",
      " 28  PARALLAX2            667 non-null    float64\n",
      " 29  parallax_error2      667 non-null    float64\n",
      " 30  DIST2                667 non-null    float64\n",
      " 31  RUWE2                667 non-null    float64\n",
      " 32  PMRA2                667 non-null    float64\n",
      " 33  PMRA_ERROR2          667 non-null    float64\n",
      " 34  PMDEC2               667 non-null    float64\n",
      " 35  PMDEC_ERROR2         667 non-null    float64\n",
      " 36  BminusR2             667 non-null    float64\n",
      " 37  mass_calc2           667 non-null    float64\n",
      " 38  mass_flame2          667 non-null    float64\n",
      " 39  mass_flame_upper2    667 non-null    float64\n",
      " 40  mass_flame_lower2    667 non-null    float64\n",
      " 41  age_flame2           667 non-null    float64\n",
      " 42  age_flame_upper2     667 non-null    float64\n",
      " 43  age_flame_lower2     667 non-null    float64\n",
      " 44  PROB2                667 non-null    float64\n",
      " 45  DIST                 667 non-null    float64\n",
      " 46  RA_MEAN              667 non-null    float64\n",
      " 47  DEC_MEAN             667 non-null    float64\n",
      " 48  vRA                  667 non-null    float64\n",
      " 49  vRAerr               667 non-null    float64\n",
      " 50  vDEC                 667 non-null    float64\n",
      " 51  vDECerr              667 non-null    object \n",
      " 52  V2D                  667 non-null    float64\n",
      " 53  Log10vRA             667 non-null    float64\n",
      " 54  Log10vDEC            667 non-null    float64\n",
      " 55  Log10r               667 non-null    float64\n",
      " 56  r                    667 non-null    float64\n",
      " 57  M                    667 non-null    float64\n",
      " 58  mass_A_1             667 non-null    float64\n",
      " 59  mass_A_2             667 non-null    float64\n",
      " 60  mass_B_1             667 non-null    float64\n",
      " 61  mass_B_2             667 non-null    float64\n",
      " 62  M_A                  667 non-null    float64\n",
      " 63  M_B                  667 non-null    float64\n",
      " 64  M_modif              667 non-null    float64\n",
      "dtypes: float64(63), int64(1), object(1)\n",
      "memory usage: 343.9+ KB\n"
     ]
    }
   ],
   "source": [
    "new_binary_dataframe.info()"
   ]
  },
  {
   "cell_type": "code",
   "execution_count": 82,
   "id": "9d51714a-56fa-4f77-b63a-b8459fac0da3",
   "metadata": {
    "tags": []
   },
   "outputs": [
    {
     "data": {
      "text/plain": [
       "Text(0, 0.5, 'Mass with hidden tertiaries ($M_\\\\odot$)')"
      ]
     },
     "execution_count": 82,
     "metadata": {},
     "output_type": "execute_result"
    },
    {
     "data": {
      "image/png": "[encoded data removed]",
      "text/plain": [
       "<Figure size 640x480 with 1 Axes>"
      ]
     },
     "metadata": {},
     "output_type": "display_data"
    }
   ],
   "source": [
    "plt.scatter(new_binary_dataframe[\"M\"], new_binary_dataframe[\"M_modif\"])\n",
    "plt.xlabel(r\"Mass without hidden tertiaries ($M_\\odot$)\")\n",
    "plt.ylabel(r\"Mass with hidden tertiaries ($M_\\odot$)\")"
   ]
  },
  {
   "cell_type": "code",
   "execution_count": 83,
   "id": "12fd0864-f8ea-4f55-b3ba-faa830585688",
   "metadata": {},
   "outputs": [],
   "source": [
    "thermal = Thermal()\n",
    "new_binary_dataframe[\"eccentricity\"] = new_binary_dataframe[\"M\"].apply(lambda x: thermal.random_sample(0,1,size=1)[0])"
   ]
  },
  {
   "cell_type": "code",
   "execution_count": 84,
   "id": "7b4ea312-b523-467c-a0ea-b89bc8efe1ac",
   "metadata": {
    "tags": []
   },
   "outputs": [],
   "source": [
    "sine = Sine()\n",
    "new_binary_dataframe[\"i_angle\"] = new_binary_dataframe[\"M\"].apply(lambda x: sine.random_sample(0,np.pi/2,size=1)[0])"
   ]
  },
  {
   "cell_type": "code",
   "execution_count": 85,
   "id": "f57663f2-81b8-4b7d-aea3-a865682c99d2",
   "metadata": {
    "tags": []
   },
   "outputs": [],
   "source": [
    "uniform = Uniform()\n",
    "new_binary_dataframe[\"phi_0\"] = new_binary_dataframe[\"M\"].apply(lambda x: uniform.random_sample(0,2*np.pi,size=1)[0])"
   ]
  },
  {
   "cell_type": "code",
   "execution_count": 86,
   "id": "1137cbbb-22c6-42e4-af49-f0e7dc82cd28",
   "metadata": {
    "tags": []
   },
   "outputs": [],
   "source": [
    "def phi_angle(e):\n",
    "    phi = PhiAngle(\n",
    "        dist_parameters={\n",
    "            \"e\": e,\n",
    "        }\n",
    "    )\n",
    "    return phi.random_sample(0,2*np.pi, size=1)[0]\n",
    "new_binary_dataframe[\"phi\"] = new_binary_dataframe[\"eccentricity\"].apply(lambda x: phi_angle([x]))"
   ]
  },
  {
   "cell_type": "code",
   "execution_count": 87,
   "id": "74e37e2e-0644-4108-ba00-15237e2dc04b",
   "metadata": {
    "tags": []
   },
   "outputs": [],
   "source": [
    "new_binary_dataframe[\"r_3D\"] = new_binary_dataframe.apply(lambda x: x.r/np.sqrt(np.cos(x.phi)**2 + (np.sin(x.phi)**2)*np.cos(x.i_angle)**2), axis=1)"
   ]
  },
  {
   "cell_type": "code",
   "execution_count": 88,
   "id": "17cb159f-6f91-4998-b11f-527dc22d226f",
   "metadata": {
    "tags": []
   },
   "outputs": [],
   "source": [
    "v_tilde = VelTilde()\n",
    "new_binary_dataframe[\"v_tilde\"] = new_binary_dataframe.apply(lambda x: v_tilde.distribution(x.phi, x.phi_0, x.i_angle, x.eccentricity), axis=1)"
   ]
  },
  {
   "cell_type": "code",
   "execution_count": 89,
   "id": "476b6f8d-1552-4ba0-a6db-df9f36d6a578",
   "metadata": {
    "tags": []
   },
   "outputs": [],
   "source": [
    "new_binary_dataframe[\"psi\"] = new_binary_dataframe.apply(lambda x: np.arctan(-(np.cos(x.phi) + x.eccentricity*np.cos(x.phi_0))/(np.sin(x.phi) + x.eccentricity*np.sin(x.phi_0))), axis=1)"
   ]
  },
  {
   "cell_type": "code",
   "execution_count": 90,
   "id": "0891d6c3-8b19-4b4a-84dd-44fb27b8c451",
   "metadata": {
    "tags": []
   },
   "outputs": [],
   "source": [
    "new_binary_dataframe[\"delta_l\"] = new_binary_dataframe.apply(lambda x: x.r_3D * np.sin(x.i_angle) * np.sin(x.phi), axis=1)"
   ]
  },
  {
   "cell_type": "code",
   "execution_count": 91,
   "id": "10d6cbb1-7f18-438f-a6a3-ff10cefed787",
   "metadata": {
    "tags": []
   },
   "outputs": [
    {
     "data": {
      "text/plain": [
       "<matplotlib.collections.PathCollection at 0x7fb0270ae320>"
      ]
     },
     "execution_count": 91,
     "metadata": {},
     "output_type": "execute_result"
    },
    {
     "data": {
      "image/png": "[encoded data removed]",
      "text/plain": [
       "<Figure size 640x480 with 1 Axes>"
      ]
     },
     "metadata": {},
     "output_type": "display_data"
    }
   ],
   "source": [
    "plt.scatter(new_binary_dataframe[\"PARALLAX1\"],new_binary_dataframe[\"PARALLAX2\"])"
   ]
  },
  {
   "cell_type": "code",
   "execution_count": 96,
   "id": "82613158-b4a3-4d72-92b1-9045907ad936",
   "metadata": {
    "tags": []
   },
   "outputs": [
    {
     "data": {
      "text/plain": [
       "(array([209., 140.,  77.,  57.,  32.,  33.,  23.,  13.,  13.,  13.,  14.,\n",
       "          5.,   4.,   4.,   5.,   1.,   4.,   2.,   1.,   1.,   2.,   2.,\n",
       "          1.,   1.,   0.,   2.,   1.,   0.,   0.,   1.,   0.,   0.,   0.,\n",
       "          0.,   1.,   0.,   0.,   1.,   0.,   0.,   1.,   0.,   0.,   0.,\n",
       "          0.,   0.,   0.,   0.,   0.,   0.,   0.,   0.,   0.,   0.,   1.,\n",
       "          1.,   0.,   0.,   0.,   0.,   0.,   0.,   0.,   0.,   0.,   0.,\n",
       "          0.,   0.,   0.,   0.,   0.,   0.,   0.,   0.,   0.,   0.,   0.,\n",
       "          0.,   0.,   0.,   0.,   0.,   0.,   0.,   0.,   0.,   0.,   0.,\n",
       "          0.,   0.,   0.,   0.,   0.,   0.,   0.,   0.,   0.,   0.,   0.,\n",
       "          1.]),\n",
       " array([  8.00426325,   9.50309992,  11.0019366 ,  12.50077327,\n",
       "         13.99960995,  15.49844662,  16.9972833 ,  18.49611997,\n",
       "         19.99495665,  21.49379333,  22.99263   ,  24.49146668,\n",
       "         25.99030335,  27.48914003,  28.9879767 ,  30.48681338,\n",
       "         31.98565005,  33.48448673,  34.9833234 ,  36.48216008,\n",
       "         37.98099675,  39.47983343,  40.9786701 ,  42.47750678,\n",
       "         43.97634346,  45.47518013,  46.97401681,  48.47285348,\n",
       "         49.97169016,  51.47052683,  52.96936351,  54.46820018,\n",
       "         55.96703686,  57.46587353,  58.96471021,  60.46354688,\n",
       "         61.96238356,  63.46122023,  64.96005691,  66.45889358,\n",
       "         67.95773026,  69.45656694,  70.95540361,  72.45424029,\n",
       "         73.95307696,  75.45191364,  76.95075031,  78.44958699,\n",
       "         79.94842366,  81.44726034,  82.94609701,  84.44493369,\n",
       "         85.94377036,  87.44260704,  88.94144371,  90.44028039,\n",
       "         91.93911707,  93.43795374,  94.93679042,  96.43562709,\n",
       "         97.93446377,  99.43330044, 100.93213712, 102.43097379,\n",
       "        103.92981047, 105.42864714, 106.92748382, 108.42632049,\n",
       "        109.92515717, 111.42399384, 112.92283052, 114.4216672 ,\n",
       "        115.92050387, 117.41934055, 118.91817722, 120.4170139 ,\n",
       "        121.91585057, 123.41468725, 124.91352392, 126.4123606 ,\n",
       "        127.91119727, 129.41003395, 130.90887062, 132.4077073 ,\n",
       "        133.90654397, 135.40538065, 136.90421732, 138.403054  ,\n",
       "        139.90189068, 141.40072735, 142.89956403, 144.3984007 ,\n",
       "        145.89723738, 147.39607405, 148.89491073, 150.3937474 ,\n",
       "        151.89258408, 153.39142075, 154.89025743, 156.3890941 ,\n",
       "        157.88793078]),\n",
       " <BarContainer object of 100 artists>)"
      ]
     },
     "execution_count": 96,
     "metadata": {},
     "output_type": "execute_result"
    },
    {
     "data": {
      "image/png": "[encoded data removed]",
      "text/plain": [
       "<Figure size 640x480 with 1 Axes>"
      ]
     },
     "metadata": {},
     "output_type": "display_data"
    }
   ],
   "source": [
    "plt.hist(new_binary_dataframe[\"PARALLAX1\"], bins=100)"
   ]
  },
  {
   "cell_type": "code",
   "execution_count": null,
   "id": "04a6787d-f97c-4ad1-9388-94bd1206e6b1",
   "metadata": {},
   "outputs": [],
   "source": []
  }
 ],
 "metadata": {
  "kernelspec": {
   "display_name": "Python 3 (ipykernel)",
   "language": "python",
   "name": "python3"
  },
  "language_info": {
   "codemirror_mode": {
    "name": "ipython",
    "version": 3
   },
   "file_extension": ".py",
   "mimetype": "text/x-python",
   "name": "python",
   "nbconvert_exporter": "python",
   "pygments_lexer": "ipython3",
   "version": "3.10.6"
  }
 },
 "nbformat": 4,
 "nbformat_minor": 5
}
