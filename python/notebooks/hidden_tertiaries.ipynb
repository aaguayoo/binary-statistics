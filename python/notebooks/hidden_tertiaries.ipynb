{
 "cells": [
  {
   "cell_type": "markdown",
   "id": "a7cc511c-c7e4-4a93-ac36-947a75bad762",
   "metadata": {},
   "source": [
    "# Hidden tertiaries"
   ]
  },
  {
   "cell_type": "code",
   "execution_count": 1,
   "id": "35ddfd81-9a87-4d41-ba04-74d2e2762ab3",
   "metadata": {
    "tags": []
   },
   "outputs": [],
   "source": [
    "%load_ext autoreload\n",
    "%autoreload 2\n",
    "\n",
    "import matplotlib.pyplot as plt\n",
    "import numpy as np\n",
    "import pandas as pd\n",
    "from scipy.optimize import curve_fit\n",
    "from sklearn.model_selection import train_test_split\n",
    "\n",
    "from binaryStatistics.base_distribution import BaseDistribution\n",
    "from binaryStatistics.distributions import Uniform, Thermal, PowerLaw, Sine, VelTilde, PhiAngle, Log\n",
    "from binaryStatistics.plot_utils import plot_histogram"
   ]
  },
  {
   "cell_type": "code",
   "execution_count": 2,
   "id": "70f1b5e6-b7b2-4ec2-b0e6-a83823316108",
   "metadata": {
    "tags": []
   },
   "outputs": [],
   "source": [
    "def get_companions_mass(Mag1, Mag2, label=\"without\"):\n",
    "    \n",
    "    def get_kappa(delta_Mag):\n",
    "        dM = delta_Mag.random_sample(0.01,12,1)\n",
    "        return 1/(1 + 10**(-0.4*dM))[0]\n",
    "    \n",
    "    def get_mass(mag):\n",
    "        return 10**(0.0725*(4.76 - mag))\n",
    "    \n",
    "    gamma = -0.7\n",
    "    delta_Mag = PowerLaw(\n",
    "        dist_parameters={\n",
    "            \"C\": (1 + gamma)/(12**gamma),\n",
    "            \"alpha\": gamma,\n",
    "        }\n",
    "    )\n",
    "    kappa = get_kappa(delta_Mag)\n",
    "    \n",
    "    if label == \"without\":\n",
    "        return {\n",
    "            \"mass_A_1\": get_mass(Mag1),\n",
    "            \"mass_A_2\": 0.0,\n",
    "            \"mass_B_1\": get_mass(Mag2),\n",
    "            \"mass_B_2\": 0.0,\n",
    "        }\n",
    "    elif label == \"more\":\n",
    "        if Mag1 > Mag2:\n",
    "            host = -2.5*np.log10(kappa) + Mag1\n",
    "            comp = -2.5*np.log10(1 - kappa) + Mag1\n",
    "            \n",
    "            return {\n",
    "                \"mass_A_1\": get_mass(host),\n",
    "                \"mass_A_2\": get_mass(comp),\n",
    "                \"mass_B_1\": get_mass(Mag2),\n",
    "                \"mass_B_2\": 0.0,\n",
    "            }\n",
    "        else:\n",
    "            host = -2.5*np.log10(kappa) + Mag2\n",
    "            comp = -2.5*np.log10(1 - kappa) + Mag2\n",
    "            \n",
    "            return {\n",
    "                \"mass_A_1\": get_mass(Mag1),\n",
    "                \"mass_A_2\": 0.0,\n",
    "                \"mass_B_1\": get_mass(host),\n",
    "                \"mass_B_2\": get_mass(comp),\n",
    "            }\n",
    "            \n",
    "    elif label == \"less\":\n",
    "        if Mag1 < Mag2:\n",
    "            host = -2.5*np.log10(kappa) + Mag1\n",
    "            comp = -2.5*np.log10(1 - kappa) + Mag1\n",
    "            \n",
    "            return {\n",
    "                \"mass_A_1\": get_mass(host),\n",
    "                \"mass_A_2\": get_mass(comp),\n",
    "                \"mass_B_1\": get_mass(Mag2),\n",
    "                \"mass_B_2\": 0.0,\n",
    "            }\n",
    "        else:\n",
    "            host = -2.5*np.log10(kappa) + Mag2\n",
    "            comp = -2.5*np.log10(1 - kappa) + Mag2\n",
    "            \n",
    "            return {\n",
    "                \"mass_A_1\": get_mass(Mag2),\n",
    "                \"mass_A_2\": 0.0,\n",
    "                \"mass_B_1\": get_mass(host),\n",
    "                \"mass_B_2\": get_mass(comp),\n",
    "            }\n",
    "        \n",
    "    elif label == \"both\":\n",
    "        kappa = get_kappa(delta_Mag)\n",
    "        host_1 = -2.5*np.log10(kappa) + Mag1\n",
    "        comp_1 = -2.5*np.log10(1 - kappa) + Mag1\n",
    "        kappa = get_kappa(delta_Mag)\n",
    "        host_2 = -2.5*np.log10(kappa) + Mag2\n",
    "        comp_2 = -2.5*np.log10(1 - kappa) + Mag2\n",
    "        \n",
    "        return {\n",
    "            \"mass_A_1\": get_mass(host_1),\n",
    "            \"mass_A_2\": get_mass(comp_1),\n",
    "            \"mass_B_1\": get_mass(host_2),\n",
    "            \"mass_B_2\": get_mass(comp_2),\n",
    "        }"
   ]
  },
  {
   "cell_type": "code",
   "execution_count": 3,
   "id": "2acae4f2-8286-4d64-92d1-ceab96f4f9cc",
   "metadata": {
    "tags": []
   },
   "outputs": [],
   "source": [
    "## With this line we extract all the data in the file WB450.csv\n",
    "binary_dataframe = pd.read_csv(\"../data/667Bp_0.8.csv\")"
   ]
  },
  {
   "cell_type": "code",
   "execution_count": 4,
   "id": "7dfca9bf-f622-401a-9165-6a63b0024d64",
   "metadata": {
    "tags": []
   },
   "outputs": [
    {
     "data": {
      "text/html": [
       "<div>\n",
       "<style scoped>\n",
       "    .dataframe tbody tr th:only-of-type {\n",
       "        vertical-align: middle;\n",
       "    }\n",
       "\n",
       "    .dataframe tbody tr th {\n",
       "        vertical-align: top;\n",
       "    }\n",
       "\n",
       "    .dataframe thead th {\n",
       "        text-align: right;\n",
       "    }\n",
       "</style>\n",
       "<table border=\"1\" class=\"dataframe\">\n",
       "  <thead>\n",
       "    <tr style=\"text-align: right;\">\n",
       "      <th></th>\n",
       "      <th>Unnamed: 0</th>\n",
       "      <th>SOURCE_ID_PRIMARY</th>\n",
       "      <th>ra1</th>\n",
       "      <th>dec1</th>\n",
       "      <th>mag1</th>\n",
       "      <th>MAG1</th>\n",
       "      <th>PARALLAX1</th>\n",
       "      <th>parallax_error1</th>\n",
       "      <th>DIST1</th>\n",
       "      <th>RUWE1</th>\n",
       "      <th>...</th>\n",
       "      <th>vRA</th>\n",
       "      <th>vRAerr</th>\n",
       "      <th>vDEC</th>\n",
       "      <th>vDECerr</th>\n",
       "      <th>V2D</th>\n",
       "      <th>Log10vRA</th>\n",
       "      <th>Log10vDEC</th>\n",
       "      <th>Log10r</th>\n",
       "      <th>r</th>\n",
       "      <th>M</th>\n",
       "    </tr>\n",
       "  </thead>\n",
       "  <tbody>\n",
       "    <tr>\n",
       "      <th>0</th>\n",
       "      <td>0</td>\n",
       "      <td>4.892827e+16</td>\n",
       "      <td>62.659863</td>\n",
       "      <td>20.039590</td>\n",
       "      <td>8.637080</td>\n",
       "      <td>8.637080</td>\n",
       "      <td>19.120252</td>\n",
       "      <td>0.016533</td>\n",
       "      <td>52.300567</td>\n",
       "      <td>1.149334</td>\n",
       "      <td>...</td>\n",
       "      <td>1.414944</td>\n",
       "      <td>0.027036</td>\n",
       "      <td>1.007481</td>\n",
       "      <td>(0.10233914394539495,)</td>\n",
       "      <td>1.736976</td>\n",
       "      <td>0.150739</td>\n",
       "      <td>0.003237</td>\n",
       "      <td>-3.054217</td>\n",
       "      <td>0.000883</td>\n",
       "      <td>1.140540</td>\n",
       "    </tr>\n",
       "    <tr>\n",
       "      <th>1</th>\n",
       "      <td>1</td>\n",
       "      <td>5.372056e+16</td>\n",
       "      <td>62.352435</td>\n",
       "      <td>23.464026</td>\n",
       "      <td>7.798275</td>\n",
       "      <td>7.798275</td>\n",
       "      <td>14.891271</td>\n",
       "      <td>0.019507</td>\n",
       "      <td>67.153435</td>\n",
       "      <td>1.070155</td>\n",
       "      <td>...</td>\n",
       "      <td>0.882973</td>\n",
       "      <td>0.072469</td>\n",
       "      <td>1.382309</td>\n",
       "      <td>(0.06742163043034524,)</td>\n",
       "      <td>1.640250</td>\n",
       "      <td>-0.054053</td>\n",
       "      <td>0.140605</td>\n",
       "      <td>-2.813512</td>\n",
       "      <td>0.001536</td>\n",
       "      <td>1.258145</td>\n",
       "    </tr>\n",
       "    <tr>\n",
       "      <th>2</th>\n",
       "      <td>2</td>\n",
       "      <td>7.716122e+16</td>\n",
       "      <td>32.717524</td>\n",
       "      <td>13.682958</td>\n",
       "      <td>4.862433</td>\n",
       "      <td>4.862433</td>\n",
       "      <td>23.304385</td>\n",
       "      <td>0.028325</td>\n",
       "      <td>42.910379</td>\n",
       "      <td>1.113712</td>\n",
       "      <td>...</td>\n",
       "      <td>0.609415</td>\n",
       "      <td>0.065854</td>\n",
       "      <td>0.283278</td>\n",
       "      <td>(0.04558037119673894,)</td>\n",
       "      <td>0.672036</td>\n",
       "      <td>-0.215087</td>\n",
       "      <td>-0.547788</td>\n",
       "      <td>-2.902558</td>\n",
       "      <td>0.001252</td>\n",
       "      <td>1.844137</td>\n",
       "    </tr>\n",
       "    <tr>\n",
       "      <th>3</th>\n",
       "      <td>3</td>\n",
       "      <td>1.049989e+17</td>\n",
       "      <td>28.829107</td>\n",
       "      <td>24.292369</td>\n",
       "      <td>7.350453</td>\n",
       "      <td>7.350453</td>\n",
       "      <td>16.623353</td>\n",
       "      <td>0.017599</td>\n",
       "      <td>60.156335</td>\n",
       "      <td>0.883072</td>\n",
       "      <td>...</td>\n",
       "      <td>0.206057</td>\n",
       "      <td>0.057484</td>\n",
       "      <td>0.092202</td>\n",
       "      <td>(0.05333571922184351,)</td>\n",
       "      <td>0.225745</td>\n",
       "      <td>-0.686012</td>\n",
       "      <td>-1.035257</td>\n",
       "      <td>-1.488954</td>\n",
       "      <td>0.032437</td>\n",
       "      <td>1.387181</td>\n",
       "    </tr>\n",
       "    <tr>\n",
       "      <th>4</th>\n",
       "      <td>4</td>\n",
       "      <td>9.869261e+16</td>\n",
       "      <td>29.196527</td>\n",
       "      <td>23.051061</td>\n",
       "      <td>5.024877</td>\n",
       "      <td>5.024877</td>\n",
       "      <td>29.509924</td>\n",
       "      <td>0.022391</td>\n",
       "      <td>33.886906</td>\n",
       "      <td>0.915890</td>\n",
       "      <td>...</td>\n",
       "      <td>0.337392</td>\n",
       "      <td>0.027361</td>\n",
       "      <td>0.257691</td>\n",
       "      <td>(0.011056875463707696,)</td>\n",
       "      <td>0.424545</td>\n",
       "      <td>-0.471865</td>\n",
       "      <td>-0.588901</td>\n",
       "      <td>-2.012038</td>\n",
       "      <td>0.009727</td>\n",
       "      <td>1.529926</td>\n",
       "    </tr>\n",
       "  </tbody>\n",
       "</table>\n",
       "<p>5 rows × 58 columns</p>\n",
       "</div>"
      ],
      "text/plain": [
       "   Unnamed: 0  SOURCE_ID_PRIMARY        ra1       dec1      mag1      MAG1  \\\n",
       "0           0       4.892827e+16  62.659863  20.039590  8.637080  8.637080   \n",
       "1           1       5.372056e+16  62.352435  23.464026  7.798275  7.798275   \n",
       "2           2       7.716122e+16  32.717524  13.682958  4.862433  4.862433   \n",
       "3           3       1.049989e+17  28.829107  24.292369  7.350453  7.350453   \n",
       "4           4       9.869261e+16  29.196527  23.051061  5.024877  5.024877   \n",
       "\n",
       "   PARALLAX1  parallax_error1      DIST1     RUWE1  ...       vRA    vRAerr  \\\n",
       "0  19.120252         0.016533  52.300567  1.149334  ...  1.414944  0.027036   \n",
       "1  14.891271         0.019507  67.153435  1.070155  ...  0.882973  0.072469   \n",
       "2  23.304385         0.028325  42.910379  1.113712  ...  0.609415  0.065854   \n",
       "3  16.623353         0.017599  60.156335  0.883072  ...  0.206057  0.057484   \n",
       "4  29.509924         0.022391  33.886906  0.915890  ...  0.337392  0.027361   \n",
       "\n",
       "       vDEC                  vDECerr       V2D  Log10vRA  Log10vDEC    Log10r  \\\n",
       "0  1.007481   (0.10233914394539495,)  1.736976  0.150739   0.003237 -3.054217   \n",
       "1  1.382309   (0.06742163043034524,)  1.640250 -0.054053   0.140605 -2.813512   \n",
       "2  0.283278   (0.04558037119673894,)  0.672036 -0.215087  -0.547788 -2.902558   \n",
       "3  0.092202   (0.05333571922184351,)  0.225745 -0.686012  -1.035257 -1.488954   \n",
       "4  0.257691  (0.011056875463707696,)  0.424545 -0.471865  -0.588901 -2.012038   \n",
       "\n",
       "          r         M  \n",
       "0  0.000883  1.140540  \n",
       "1  0.001536  1.258145  \n",
       "2  0.001252  1.844137  \n",
       "3  0.032437  1.387181  \n",
       "4  0.009727  1.529926  \n",
       "\n",
       "[5 rows x 58 columns]"
      ]
     },
     "execution_count": 4,
     "metadata": {},
     "output_type": "execute_result"
    }
   ],
   "source": [
    "binary_dataframe.head()"
   ]
  },
  {
   "cell_type": "markdown",
   "id": "fb10ede3-5276-4773-a115-0246db9e4f84",
   "metadata": {},
   "source": [
    "1. Split the CSV dataset into a 40\\% with companion(s) and 60\\% without companion(s)"
   ]
  },
  {
   "cell_type": "code",
   "execution_count": 142,
   "id": "4f53e844-827f-48ff-b8d7-e2c27c5e810d",
   "metadata": {
    "tags": []
   },
   "outputs": [],
   "source": [
    "f = 0.8\n",
    "bd_without_comp, bd_with_comp = train_test_split(binary_dataframe, test_size=f, train_size=1-f)"
   ]
  },
  {
   "cell_type": "markdown",
   "id": "bf549c5b-44b2-49cb-b067-d4408460b4a2",
   "metadata": {},
   "source": [
    "2. The 40\\% with companion is splitted into 30\\% binaries where both components have hidden companions, and 70\\% where only one does. "
   ]
  },
  {
   "cell_type": "code",
   "execution_count": 143,
   "id": "3c925bf9-c92a-44ad-9312-b3bbef2ff512",
   "metadata": {
    "tags": []
   },
   "outputs": [],
   "source": [
    "bd_with_comp_one, bd_with_comp_both = train_test_split(bd_with_comp, test_size=0.3, train_size=0.7)"
   ]
  },
  {
   "cell_type": "markdown",
   "id": "197167a5-3c45-43fc-98c9-9ba17f3a5870",
   "metadata": {},
   "source": [
    "3. Finally, this remaining 70\\% is splitted into a 30\\% where the companion is in the component with less luminosity, and 40\\% where the companion is in the component of greater luminosity."
   ]
  },
  {
   "cell_type": "code",
   "execution_count": 144,
   "id": "8ad3f4eb-ac68-4945-a852-4a6c4f263d58",
   "metadata": {
    "tags": []
   },
   "outputs": [],
   "source": [
    "bd_with_comp_more, bd_with_comp_less = train_test_split(bd_with_comp_one, test_size=0.3/0.7, train_size=0.4/0.7)"
   ]
  },
  {
   "cell_type": "markdown",
   "id": "c26ed9f2-14c3-4dc3-bf6b-5367ebb86adb",
   "metadata": {},
   "source": [
    "4. Using Pandas' apply method, we can apply the `get_companions_mass` functions to obtain the new columns `mass_comp_1` and `mass_comp_2`. This columns contain the mass of the component (1 and 2) plus the mass of the hidden companion, if it is the case. "
   ]
  },
  {
   "cell_type": "code",
   "execution_count": 145,
   "id": "67829047-16d7-4c9b-96ac-58495a9b7ec1",
   "metadata": {
    "tags": []
   },
   "outputs": [],
   "source": [
    "bd_without_comp[[\"mass_A_1\",\"mass_A_2\",\"mass_B_1\",\"mass_B_2\"]] = bd_without_comp.apply(lambda x: get_companions_mass(x.MAG1, x.MAG2, label=\"without\"), axis=1, result_type='expand')\n",
    "bd_with_comp_both[[\"mass_A_1\",\"mass_A_2\",\"mass_B_1\",\"mass_B_2\"]] = bd_with_comp_both.apply(lambda x: get_companions_mass(x.MAG1, x.MAG2, label=\"both\"), axis=1, result_type='expand')\n",
    "bd_with_comp_more[[\"mass_A_1\",\"mass_A_2\",\"mass_B_1\",\"mass_B_2\"]] = bd_with_comp_more.apply(lambda x: get_companions_mass(x.MAG1, x.MAG2, label=\"more\"), axis=1, result_type='expand')\n",
    "bd_with_comp_less[[\"mass_A_1\",\"mass_A_2\",\"mass_B_1\",\"mass_B_2\"]] = bd_with_comp_less.apply(lambda x: get_companions_mass(x.MAG1, x.MAG2, label=\"less\"), axis=1, result_type='expand')"
   ]
  },
  {
   "cell_type": "code",
   "execution_count": 146,
   "id": "668d9f69-ba69-472c-a52d-e7fc0ab3921f",
   "metadata": {
    "tags": []
   },
   "outputs": [],
   "source": [
    "new_binary_dataframe = pd.concat([bd_without_comp, bd_with_comp_both, bd_with_comp_more, bd_with_comp_less])\n",
    "new_binary_dataframe[\"M_A\"] = new_binary_dataframe[\"mass_A_1\"] + new_binary_dataframe[\"mass_A_2\"]\n",
    "new_binary_dataframe[\"M_B\"] = new_binary_dataframe[\"mass_B_1\"] + new_binary_dataframe[\"mass_B_2\"]\n",
    "new_binary_dataframe[\"M_modif\"] = new_binary_dataframe[\"mass_A_1\"] + new_binary_dataframe[\"mass_A_2\"] + new_binary_dataframe[\"mass_B_1\"] + new_binary_dataframe[\"mass_B_2\"]"
   ]
  },
  {
   "cell_type": "code",
   "execution_count": 147,
   "id": "1ffa2e77-54c7-4b37-9a73-5cbd39abd8c9",
   "metadata": {
    "tags": []
   },
   "outputs": [
    {
     "name": "stdout",
     "output_type": "stream",
     "text": [
      "<class 'pandas.core.frame.DataFrame'>\n",
      "RangeIndex: 667 entries, 0 to 666\n",
      "Data columns (total 58 columns):\n",
      " #   Column               Non-Null Count  Dtype  \n",
      "---  ------               --------------  -----  \n",
      " 0   Unnamed: 0           667 non-null    int64  \n",
      " 1   SOURCE_ID_PRIMARY    667 non-null    float64\n",
      " 2   ra1                  667 non-null    float64\n",
      " 3   dec1                 667 non-null    float64\n",
      " 4   mag1                 667 non-null    float64\n",
      " 5   MAG1                 667 non-null    float64\n",
      " 6   PARALLAX1            667 non-null    float64\n",
      " 7   parallax_error1      667 non-null    float64\n",
      " 8   DIST1                667 non-null    float64\n",
      " 9   RUWE1                667 non-null    float64\n",
      " 10  PMRA1                667 non-null    float64\n",
      " 11  PMRA_ERROR1          667 non-null    float64\n",
      " 12  PMDEC1               667 non-null    float64\n",
      " 13  PMDEC_ERROR1         667 non-null    float64\n",
      " 14  BminusR1             667 non-null    float64\n",
      " 15  mass_calc1           667 non-null    float64\n",
      " 16  mass_flame1          667 non-null    float64\n",
      " 17  mass_flame_upper1    667 non-null    float64\n",
      " 18  mass_flame_lower1    667 non-null    float64\n",
      " 19  age_flame1           667 non-null    float64\n",
      " 20  age_flame_upper1     667 non-null    float64\n",
      " 21  age_flame_lower1     667 non-null    float64\n",
      " 22  PROB1                667 non-null    float64\n",
      " 23  SOURCE_ID_SECONDARY  667 non-null    float64\n",
      " 24  ra2                  667 non-null    float64\n",
      " 25  dec2                 667 non-null    float64\n",
      " 26  mag2                 667 non-null    float64\n",
      " 27  MAG2                 667 non-null    float64\n",
      " 28  PARALLAX2            667 non-null    float64\n",
      " 29  parallax_error2      667 non-null    float64\n",
      " 30  DIST2                667 non-null    float64\n",
      " 31  RUWE2                667 non-null    float64\n",
      " 32  PMRA2                667 non-null    float64\n",
      " 33  PMRA_ERROR2          667 non-null    float64\n",
      " 34  PMDEC2               667 non-null    float64\n",
      " 35  PMDEC_ERROR2         667 non-null    float64\n",
      " 36  BminusR2             667 non-null    float64\n",
      " 37  mass_calc2           667 non-null    float64\n",
      " 38  mass_flame2          667 non-null    float64\n",
      " 39  mass_flame_upper2    667 non-null    float64\n",
      " 40  mass_flame_lower2    667 non-null    float64\n",
      " 41  age_flame2           667 non-null    float64\n",
      " 42  age_flame_upper2     667 non-null    float64\n",
      " 43  age_flame_lower2     667 non-null    float64\n",
      " 44  PROB2                667 non-null    float64\n",
      " 45  DIST                 667 non-null    float64\n",
      " 46  RA_MEAN              667 non-null    float64\n",
      " 47  DEC_MEAN             667 non-null    float64\n",
      " 48  vRA                  667 non-null    float64\n",
      " 49  vRAerr               667 non-null    float64\n",
      " 50  vDEC                 667 non-null    float64\n",
      " 51  vDECerr              667 non-null    object \n",
      " 52  V2D                  667 non-null    float64\n",
      " 53  Log10vRA             667 non-null    float64\n",
      " 54  Log10vDEC            667 non-null    float64\n",
      " 55  Log10r               667 non-null    float64\n",
      " 56  r                    667 non-null    float64\n",
      " 57  M                    667 non-null    float64\n",
      "dtypes: float64(56), int64(1), object(1)\n",
      "memory usage: 302.4+ KB\n"
     ]
    }
   ],
   "source": [
    "binary_dataframe.info()"
   ]
  },
  {
   "cell_type": "code",
   "execution_count": 148,
   "id": "f6af5ba5-e141-4983-8019-5d83b670c355",
   "metadata": {
    "tags": []
   },
   "outputs": [
    {
     "name": "stdout",
     "output_type": "stream",
     "text": [
      "<class 'pandas.core.frame.DataFrame'>\n",
      "Index: 667 entries, 466 to 150\n",
      "Data columns (total 65 columns):\n",
      " #   Column               Non-Null Count  Dtype  \n",
      "---  ------               --------------  -----  \n",
      " 0   Unnamed: 0           667 non-null    int64  \n",
      " 1   SOURCE_ID_PRIMARY    667 non-null    float64\n",
      " 2   ra1                  667 non-null    float64\n",
      " 3   dec1                 667 non-null    float64\n",
      " 4   mag1                 667 non-null    float64\n",
      " 5   MAG1                 667 non-null    float64\n",
      " 6   PARALLAX1            667 non-null    float64\n",
      " 7   parallax_error1      667 non-null    float64\n",
      " 8   DIST1                667 non-null    float64\n",
      " 9   RUWE1                667 non-null    float64\n",
      " 10  PMRA1                667 non-null    float64\n",
      " 11  PMRA_ERROR1          667 non-null    float64\n",
      " 12  PMDEC1               667 non-null    float64\n",
      " 13  PMDEC_ERROR1         667 non-null    float64\n",
      " 14  BminusR1             667 non-null    float64\n",
      " 15  mass_calc1           667 non-null    float64\n",
      " 16  mass_flame1          667 non-null    float64\n",
      " 17  mass_flame_upper1    667 non-null    float64\n",
      " 18  mass_flame_lower1    667 non-null    float64\n",
      " 19  age_flame1           667 non-null    float64\n",
      " 20  age_flame_upper1     667 non-null    float64\n",
      " 21  age_flame_lower1     667 non-null    float64\n",
      " 22  PROB1                667 non-null    float64\n",
      " 23  SOURCE_ID_SECONDARY  667 non-null    float64\n",
      " 24  ra2                  667 non-null    float64\n",
      " 25  dec2                 667 non-null    float64\n",
      " 26  mag2                 667 non-null    float64\n",
      " 27  MAG2                 667 non-null    float64\n",
      " 28  PARALLAX2            667 non-null    float64\n",
      " 29  parallax_error2      667 non-null    float64\n",
      " 30  DIST2                667 non-null    float64\n",
      " 31  RUWE2                667 non-null    float64\n",
      " 32  PMRA2                667 non-null    float64\n",
      " 33  PMRA_ERROR2          667 non-null    float64\n",
      " 34  PMDEC2               667 non-null    float64\n",
      " 35  PMDEC_ERROR2         667 non-null    float64\n",
      " 36  BminusR2             667 non-null    float64\n",
      " 37  mass_calc2           667 non-null    float64\n",
      " 38  mass_flame2          667 non-null    float64\n",
      " 39  mass_flame_upper2    667 non-null    float64\n",
      " 40  mass_flame_lower2    667 non-null    float64\n",
      " 41  age_flame2           667 non-null    float64\n",
      " 42  age_flame_upper2     667 non-null    float64\n",
      " 43  age_flame_lower2     667 non-null    float64\n",
      " 44  PROB2                667 non-null    float64\n",
      " 45  DIST                 667 non-null    float64\n",
      " 46  RA_MEAN              667 non-null    float64\n",
      " 47  DEC_MEAN             667 non-null    float64\n",
      " 48  vRA                  667 non-null    float64\n",
      " 49  vRAerr               667 non-null    float64\n",
      " 50  vDEC                 667 non-null    float64\n",
      " 51  vDECerr              667 non-null    object \n",
      " 52  V2D                  667 non-null    float64\n",
      " 53  Log10vRA             667 non-null    float64\n",
      " 54  Log10vDEC            667 non-null    float64\n",
      " 55  Log10r               667 non-null    float64\n",
      " 56  r                    667 non-null    float64\n",
      " 57  M                    667 non-null    float64\n",
      " 58  mass_A_1             667 non-null    float64\n",
      " 59  mass_A_2             667 non-null    float64\n",
      " 60  mass_B_1             667 non-null    float64\n",
      " 61  mass_B_2             667 non-null    float64\n",
      " 62  M_A                  667 non-null    float64\n",
      " 63  M_B                  667 non-null    float64\n",
      " 64  M_modif              667 non-null    float64\n",
      "dtypes: float64(63), int64(1), object(1)\n",
      "memory usage: 343.9+ KB\n"
     ]
    }
   ],
   "source": [
    "new_binary_dataframe.info()"
   ]
  },
  {
   "cell_type": "code",
   "execution_count": 149,
   "id": "9d51714a-56fa-4f77-b63a-b8459fac0da3",
   "metadata": {
    "tags": []
   },
   "outputs": [
    {
     "data": {
      "text/plain": [
       "Text(0, 0.5, 'Mass with hidden tertiaries ($M_\\\\odot$)')"
      ]
     },
     "execution_count": 149,
     "metadata": {},
     "output_type": "execute_result"
    },
    {
     "data": {
      "image/png": "[encoded data removed]",
      "text/plain": [
       "<Figure size 640x480 with 1 Axes>"
      ]
     },
     "metadata": {},
     "output_type": "display_data"
    }
   ],
   "source": [
    "plt.scatter(new_binary_dataframe[\"M\"], new_binary_dataframe[\"M_modif\"])\n",
    "plt.xlabel(r\"Mass without hidden tertiaries ($M_\\odot$)\")\n",
    "plt.ylabel(r\"Mass with hidden tertiaries ($M_\\odot$)\")"
   ]
  },
  {
   "cell_type": "code",
   "execution_count": 150,
   "id": "12fd0864-f8ea-4f55-b3ba-faa830585688",
   "metadata": {
    "tags": []
   },
   "outputs": [],
   "source": [
    "thermal = Thermal()\n",
    "new_binary_dataframe[\"eccentricity\"] = new_binary_dataframe[\"M\"].apply(lambda x: thermal.random_sample(0,1,size=1)[0])"
   ]
  },
  {
   "cell_type": "code",
   "execution_count": 151,
   "id": "7b4ea312-b523-467c-a0ea-b89bc8efe1ac",
   "metadata": {
    "tags": []
   },
   "outputs": [],
   "source": [
    "sine = Sine()\n",
    "new_binary_dataframe[\"i_angle\"] = new_binary_dataframe[\"M\"].apply(lambda x: sine.random_sample(0,np.pi/2,size=1)[0])"
   ]
  },
  {
   "cell_type": "code",
   "execution_count": 152,
   "id": "f57663f2-81b8-4b7d-aea3-a865682c99d2",
   "metadata": {
    "tags": []
   },
   "outputs": [],
   "source": [
    "uniform = Uniform()\n",
    "new_binary_dataframe[\"phi_0\"] = new_binary_dataframe[\"M\"].apply(lambda x: uniform.random_sample(0,2*np.pi,size=1)[0])"
   ]
  },
  {
   "cell_type": "code",
   "execution_count": 153,
   "id": "1137cbbb-22c6-42e4-af49-f0e7dc82cd28",
   "metadata": {
    "tags": []
   },
   "outputs": [],
   "source": [
    "def phi_angle(e):\n",
    "    phi = PhiAngle(\n",
    "        dist_parameters={\n",
    "            \"e\": e,\n",
    "        }\n",
    "    )\n",
    "    return phi.random_sample(0,2*np.pi, size=1)[0]\n",
    "new_binary_dataframe[\"phi\"] = new_binary_dataframe[\"eccentricity\"].apply(lambda x: phi_angle([x]))"
   ]
  },
  {
   "cell_type": "code",
   "execution_count": 154,
   "id": "74e37e2e-0644-4108-ba00-15237e2dc04b",
   "metadata": {
    "tags": []
   },
   "outputs": [],
   "source": [
    "new_binary_dataframe[\"r_3D\"] = new_binary_dataframe.apply(lambda x: x.r/np.sqrt(np.cos(x.phi)**2 + (np.sin(x.phi)**2)*np.cos(x.i_angle)**2), axis=1)"
   ]
  },
  {
   "cell_type": "code",
   "execution_count": 155,
   "id": "e41475f2-ad01-463d-8961-c35e90e8a839",
   "metadata": {
    "tags": []
   },
   "outputs": [],
   "source": [
    "new_binary_dataframe[\"a\"] = new_binary_dataframe.apply(lambda x: x.r_3D*(1 + x.eccentricity*np.cos(x.phi - x.phi_0))/(1 - x.eccentricity**2), axis=1)"
   ]
  },
  {
   "cell_type": "code",
   "execution_count": 156,
   "id": "17cb159f-6f91-4998-b11f-527dc22d226f",
   "metadata": {
    "tags": []
   },
   "outputs": [],
   "source": [
    "v_tilde = VelTilde()\n",
    "new_binary_dataframe[\"v_tilde\"] = new_binary_dataframe.apply(lambda x: v_tilde.distribution(x.phi, x.phi_0, x.i_angle, x.eccentricity), axis=1)"
   ]
  },
  {
   "cell_type": "code",
   "execution_count": 157,
   "id": "90c6ee00-c1ba-4d6d-b1fd-781c818374c3",
   "metadata": {
    "tags": []
   },
   "outputs": [],
   "source": [
    "G = 4.3009e-03 # pc·(km/s)²·M_\\odot⁻¹\n",
    "new_binary_dataframe[\"v2Dp_notert\"] = new_binary_dataframe.apply(lambda x: np.sqrt(G*x.M/x.r)*x.v_tilde, axis=1)\n",
    "new_binary_dataframe[\"v2Dp_tert\"] = new_binary_dataframe.apply(lambda x: np.sqrt(G*x.M_modif/x.r)*x.v_tilde, axis=1)"
   ]
  },
  {
   "cell_type": "code",
   "execution_count": 158,
   "id": "476b6f8d-1552-4ba0-a6db-df9f36d6a578",
   "metadata": {
    "tags": []
   },
   "outputs": [],
   "source": [
    "new_binary_dataframe[\"psi\"] = new_binary_dataframe.apply(lambda x: np.arctan(-(np.cos(x.phi) + x.eccentricity*np.cos(x.phi_0))/(np.sin(x.phi) + x.eccentricity*np.sin(x.phi_0))), axis=1)"
   ]
  },
  {
   "cell_type": "code",
   "execution_count": 159,
   "id": "a8a6d308-57d4-448c-9bc9-ec386dbefa3e",
   "metadata": {
    "tags": []
   },
   "outputs": [],
   "source": [
    "new_binary_dataframe[\"v3D_notert\"] = new_binary_dataframe.apply(lambda x: x.v2Dp_notert/np.sqrt(np.cos(x.psi)**2 + (np.cos(x.i_angle)**2)*(np.sin(x.psi)**2)), axis=1)\n",
    "new_binary_dataframe[\"v3D_tert\"] = new_binary_dataframe.apply(lambda x: x.v2Dp_tert/np.sqrt(np.cos(x.psi)**2 + (np.cos(x.i_angle)**2)*(np.sin(x.psi)**2)), axis=1)"
   ]
  },
  {
   "cell_type": "code",
   "execution_count": 160,
   "id": "d77969b2-6e14-454c-aad1-c6ad3099db48",
   "metadata": {
    "tags": []
   },
   "outputs": [],
   "source": [
    "new_binary_dataframe[\"vp_x\"] = new_binary_dataframe.apply(lambda x: -x.v3D_tert*np.sin(x.phi), axis=1)\n",
    "new_binary_dataframe[\"vp_y\"] = new_binary_dataframe.apply(lambda x: x.v3D_tert*np.cos(x.phi), axis=1)"
   ]
  },
  {
   "cell_type": "code",
   "execution_count": 161,
   "id": "0891d6c3-8b19-4b4a-84dd-44fb27b8c451",
   "metadata": {
    "tags": []
   },
   "outputs": [],
   "source": [
    "new_binary_dataframe[\"delta_l\"] = new_binary_dataframe.apply(lambda x: x.r_3D * np.sin(x.i_angle) * np.sin(x.phi), axis=1)"
   ]
  },
  {
   "cell_type": "code",
   "execution_count": 162,
   "id": "10d6cbb1-7f18-438f-a6a3-ff10cefed787",
   "metadata": {
    "tags": []
   },
   "outputs": [
    {
     "data": {
      "text/plain": [
       "Text(0, 0.5, '2D relative velocity (km/s)')"
      ]
     },
     "execution_count": 162,
     "metadata": {},
     "output_type": "execute_result"
    },
    {
     "data": {
      "image/png": "[encoded data removed]",
      "text/plain": [
       "<Figure size 640x480 with 1 Axes>"
      ]
     },
     "metadata": {},
     "output_type": "display_data"
    }
   ],
   "source": [
    "fig, ax = plt.subplots()\n",
    "ax.scatter(new_binary_dataframe[\"r\"],new_binary_dataframe[\"v2Dp_notert\"])\n",
    "plt.xscale(\"log\")\n",
    "plt.yscale(\"log\")\n",
    "ax.set_xlim(0.001,0.06)\n",
    "ax.set_ylim(0.1,3)\n",
    "ax.set_xlabel(\"2D separation (pc)\")\n",
    "ax.set_ylabel(\"2D relative velocity (km/s)\")"
   ]
  },
  {
   "cell_type": "code",
   "execution_count": 163,
   "id": "81473f67-4e40-4c3c-912e-05c3a9044a79",
   "metadata": {
    "tags": []
   },
   "outputs": [
    {
     "data": {
      "text/plain": [
       "Text(0, 0.5, '2D relative velocity (km/s)')"
      ]
     },
     "execution_count": 163,
     "metadata": {},
     "output_type": "execute_result"
    },
    {
     "data": {
      "image/png": "[encoded data removed]",
      "text/plain": [
       "<Figure size 640x480 with 1 Axes>"
      ]
     },
     "metadata": {},
     "output_type": "display_data"
    }
   ],
   "source": [
    "fig, ax = plt.subplots()\n",
    "ax.scatter(new_binary_dataframe[\"r\"],new_binary_dataframe[\"v2Dp_tert\"])\n",
    "plt.xscale(\"log\")\n",
    "plt.yscale(\"log\")\n",
    "ax.set_xlim(0.001,0.06)\n",
    "ax.set_ylim(0.1,3)\n",
    "ax.set_xlabel(\"2D separation (pc)\")\n",
    "ax.set_ylabel(\"2D relative velocity (km/s)\")"
   ]
  },
  {
   "cell_type": "code",
   "execution_count": 164,
   "id": "fad09d69-44cf-4d6b-a6e8-ac8d306fbde0",
   "metadata": {
    "tags": []
   },
   "outputs": [],
   "source": [
    "thermal = Thermal()\n",
    "new_binary_dataframe[\"eccentricity_A\"] = new_binary_dataframe[\"M\"].apply(lambda x: thermal.random_sample(0,1,size=1)[0])\n",
    "new_binary_dataframe[\"eccentricity_B\"] = new_binary_dataframe[\"M\"].apply(lambda x: thermal.random_sample(0,1,size=1)[0])"
   ]
  },
  {
   "cell_type": "code",
   "execution_count": 165,
   "id": "2fd8a70f-dda8-4503-80f2-2d2544f4687c",
   "metadata": {
    "tags": []
   },
   "outputs": [],
   "source": [
    "sine = Sine()\n",
    "new_binary_dataframe[\"i_angle_A\"] = new_binary_dataframe[\"M\"].apply(lambda x: sine.random_sample(0,np.pi/2,size=1)[0])\n",
    "new_binary_dataframe[\"i_angle_B\"] = new_binary_dataframe[\"M\"].apply(lambda x: sine.random_sample(0,np.pi/2,size=1)[0])"
   ]
  },
  {
   "cell_type": "code",
   "execution_count": 166,
   "id": "9b4a9277-a484-4a64-bedd-87d8762e51a0",
   "metadata": {
    "tags": []
   },
   "outputs": [],
   "source": [
    "uniform = Uniform()\n",
    "new_binary_dataframe[\"phi_0_A\"] = new_binary_dataframe[\"M\"].apply(lambda x: uniform.random_sample(0,2*np.pi,size=1)[0])\n",
    "new_binary_dataframe[\"phi_0_B\"] = new_binary_dataframe[\"M\"].apply(lambda x: uniform.random_sample(0,2*np.pi,size=1)[0])"
   ]
  },
  {
   "cell_type": "code",
   "execution_count": 167,
   "id": "1bc77f9b-eab9-4562-862d-68e4c9716eed",
   "metadata": {
    "tags": []
   },
   "outputs": [],
   "source": [
    "def phi_angle(e):\n",
    "    phi = PhiAngle(\n",
    "        dist_parameters={\n",
    "            \"e\": e,\n",
    "        }\n",
    "    )\n",
    "    return phi.random_sample(0,2*np.pi, size=1)[0]\n",
    "new_binary_dataframe[\"phi_A\"] = new_binary_dataframe[\"eccentricity_A\"].apply(lambda x: phi_angle([x]))\n",
    "new_binary_dataframe[\"phi_B\"] = new_binary_dataframe[\"eccentricity_B\"].apply(lambda x: phi_angle([x]))"
   ]
  },
  {
   "cell_type": "code",
   "execution_count": 168,
   "id": "5738f7fd-abab-493c-a59e-14719a51d055",
   "metadata": {
    "tags": []
   },
   "outputs": [],
   "source": [
    "log = Log()\n",
    "new_binary_dataframe[\"a_in_A\"] = new_binary_dataframe.apply(lambda x: log.random_sample(0.01, x.PARALLAX1, size=1)[0], axis=1)\n",
    "new_binary_dataframe[\"a_in_B\"] = new_binary_dataframe.apply(lambda x: log.random_sample(0.01, x.PARALLAX2, size=1)[0], axis=1)"
   ]
  },
  {
   "cell_type": "code",
   "execution_count": 169,
   "id": "a911bd5e-6aed-451d-8d09-27a60b43b638",
   "metadata": {
    "tags": []
   },
   "outputs": [],
   "source": [
    "new_binary_dataframe[\"r_3D_in_A\"] = new_binary_dataframe.apply(lambda x: x.a_in_A*(1 - x.eccentricity_A**2)/(1 + x.eccentricity_A*np.cos(x.phi_A - x.phi_0_A)), axis=1)\n",
    "new_binary_dataframe[\"r_3D_in_B\"] = new_binary_dataframe.apply(lambda x: x.a_in_B*(1 - x.eccentricity_B**2)/(1 + x.eccentricity_B*np.cos(x.phi_B - x.phi_0_B)), axis=1)"
   ]
  },
  {
   "cell_type": "code",
   "execution_count": 170,
   "id": "dc4d91eb-42f7-4d3e-8d47-6bb7359d5104",
   "metadata": {
    "tags": []
   },
   "outputs": [],
   "source": [
    "new_binary_dataframe[\"eta_phot_A\"] = new_binary_dataframe.apply(lambda x: x.mass_A_2/(x.M_A), axis=1)\n",
    "new_binary_dataframe[\"eta_phot_B\"] = new_binary_dataframe.apply(lambda x: x.mass_B_2/(x.M_B), axis=1)"
   ]
  },
  {
   "cell_type": "code",
   "execution_count": 171,
   "id": "1b6c3f91-ee89-4d07-af74-33ce7edc2301",
   "metadata": {
    "tags": []
   },
   "outputs": [],
   "source": [
    "v_tilde = VelTilde()\n",
    "new_binary_dataframe[\"v_tilde_A\"] = new_binary_dataframe.apply(lambda x: v_tilde.distribution(x.phi_A, x.phi_0_A, x.i_angle_A, x.eccentricity_A), axis=1)\n",
    "new_binary_dataframe[\"v_tilde_B\"] = new_binary_dataframe.apply(lambda x: v_tilde.distribution(x.phi_B, x.phi_0_B, x.i_angle_B, x.eccentricity_B), axis=1)"
   ]
  },
  {
   "cell_type": "code",
   "execution_count": 172,
   "id": "3ceb721b-baa5-4194-9eab-de0344c6a3d8",
   "metadata": {
    "tags": []
   },
   "outputs": [],
   "source": [
    "new_binary_dataframe[\"s_A\"] = new_binary_dataframe.apply(lambda x: x.r_3D_in_A*np.sqrt(np.cos(x.phi_A)**2 + (np.sin(x.phi_A)**2)*np.cos(x.i_angle_A)**2), axis=1)\n",
    "new_binary_dataframe[\"s_B\"] = new_binary_dataframe.apply(lambda x: x.r_3D_in_B*np.sqrt(np.cos(x.phi_B)**2 + (np.sin(x.phi_B)**2)*np.cos(x.i_angle_B)**2), axis=1)"
   ]
  },
  {
   "cell_type": "code",
   "execution_count": 173,
   "id": "09242efc-058a-4d64-8526-1cd5915eccdf",
   "metadata": {
    "tags": []
   },
   "outputs": [],
   "source": [
    "G = 4.3009e-03 # pc·(km/s)²·M_\\odot⁻¹\n",
    "new_binary_dataframe[\"v2Dp_A\"] = new_binary_dataframe.apply(lambda x: x.eta_phot_A*np.sqrt(G*x.M_A/x.s_A)*x.v_tilde_A, axis=1)\n",
    "new_binary_dataframe[\"v2Dp_B\"] = new_binary_dataframe.apply(lambda x: x.eta_phot_B*np.sqrt(G*x.M_B/x.s_B)*x.v_tilde_B, axis=1)"
   ]
  },
  {
   "cell_type": "code",
   "execution_count": 174,
   "id": "9cbf3c76-0f02-4d13-afef-2988128e3b62",
   "metadata": {
    "tags": []
   },
   "outputs": [],
   "source": [
    "new_binary_dataframe[\"psi_A\"] = new_binary_dataframe.apply(lambda x: np.arctan(-(np.cos(x.phi_A) + x.eccentricity_A*np.cos(x.phi_0_A))/(np.sin(x.phi_A) + x.eccentricity_A*np.sin(x.phi_0_A))), axis=1)\n",
    "new_binary_dataframe[\"psi_B\"] = new_binary_dataframe.apply(lambda x: np.arctan(-(np.cos(x.phi_B) + x.eccentricity_B*np.cos(x.phi_0_B))/(np.sin(x.phi_B) + x.eccentricity_B*np.sin(x.phi_0_B))), axis=1)"
   ]
  },
  {
   "cell_type": "code",
   "execution_count": 175,
   "id": "8f2c75e1-f1d5-428e-b45b-5c0c6464ad93",
   "metadata": {
    "tags": []
   },
   "outputs": [],
   "source": [
    "new_binary_dataframe[\"v3D_A\"] = new_binary_dataframe.apply(lambda x: x.v2Dp_A/np.sqrt(np.cos(x.psi_A)**2 + (np.cos(x.i_angle_A)**2)*(np.sin(x.psi_B)**2)), axis=1)\n",
    "new_binary_dataframe[\"v3D_B\"] = new_binary_dataframe.apply(lambda x: x.v2Dp_B/np.sqrt(np.cos(x.psi_B)**2 + (np.cos(x.i_angle_B)**2)*(np.sin(x.psi_B)**2)), axis=1)"
   ]
  },
  {
   "cell_type": "code",
   "execution_count": 176,
   "id": "91928458-3930-4e44-ae67-64e366cb793e",
   "metadata": {
    "tags": []
   },
   "outputs": [],
   "source": [
    "new_binary_dataframe[\"vp_A_x\"] = new_binary_dataframe.apply(lambda x: -x.v3D_A*np.sin(x.phi_A), axis=1)\n",
    "new_binary_dataframe[\"vp_A_y\"] = new_binary_dataframe.apply(lambda x: x.v3D_A*np.cos(x.phi_A), axis=1)"
   ]
  },
  {
   "cell_type": "code",
   "execution_count": 177,
   "id": "256a847f-5037-4850-afd2-d184b65edccf",
   "metadata": {
    "tags": []
   },
   "outputs": [],
   "source": [
    "new_binary_dataframe[\"vp_B_x\"] = new_binary_dataframe.apply(lambda x: -x.v3D_B*np.sin(x.phi_B), axis=1)\n",
    "new_binary_dataframe[\"vp_B_y\"] = new_binary_dataframe.apply(lambda x: x.v3D_B*np.cos(x.phi_B), axis=1)"
   ]
  },
  {
   "cell_type": "code",
   "execution_count": 178,
   "id": "faa98952-cbae-4694-ad8b-5bc8ebc6c7b1",
   "metadata": {
    "tags": []
   },
   "outputs": [],
   "source": [
    "new_binary_dataframe[\"vp_X\"] = new_binary_dataframe.apply(lambda x: x.vp_x + x.vp_A_x*x.eta_phot_A + x.vp_B_x*x.eta_phot_B, axis=1)\n",
    "new_binary_dataframe[\"vp_Y\"] = new_binary_dataframe.apply(lambda x: x.vp_y + x.vp_A_y*x.eta_phot_A + x.vp_B_y*x.eta_phot_B, axis=1)"
   ]
  },
  {
   "cell_type": "code",
   "execution_count": 179,
   "id": "ac84d66b-fb73-4783-88dd-6a9030dc60d0",
   "metadata": {
    "tags": []
   },
   "outputs": [],
   "source": [
    "new_binary_dataframe[\"v2D_tertiaries\"] = new_binary_dataframe.apply(lambda x: np.sqrt(x.vp_X**2 + x.vp_Y**2), axis=1)"
   ]
  },
  {
   "cell_type": "code",
   "execution_count": 180,
   "id": "68b0dbec-1919-48d3-8636-10ceb84fe206",
   "metadata": {
    "tags": []
   },
   "outputs": [
    {
     "data": {
      "text/plain": [
       "(0.1, 3)"
      ]
     },
     "execution_count": 180,
     "metadata": {},
     "output_type": "execute_result"
    },
    {
     "data": {
      "image/png": "[encoded data removed]",
      "text/plain": [
       "<Figure size 640x480 with 1 Axes>"
      ]
     },
     "metadata": {},
     "output_type": "display_data"
    }
   ],
   "source": [
    "fig, ax = plt.subplots()\n",
    "ax.scatter(new_binary_dataframe[\"r\"],np.sqrt(new_binary_dataframe[\"vp_x\"]**2 + new_binary_dataframe[\"vp_y\"]**2))\n",
    "ax.scatter(new_binary_dataframe[\"r\"],new_binary_dataframe[\"v2D_tertiaries\"], s=2)\n",
    "plt.xscale(\"log\")\n",
    "plt.yscale(\"log\")\n",
    "ax.set_xlabel(\"2D separation (pc)\")\n",
    "ax.set_ylabel(\"2D relative velocity (km/s)\")\n",
    "ax.set_xlim(0.001,6e-2)\n",
    "ax.set_ylim(0.1,3)"
   ]
  },
  {
   "cell_type": "code",
   "execution_count": 181,
   "id": "cfcbba29-9449-49f5-911f-c7404ab69c76",
   "metadata": {
    "tags": []
   },
   "outputs": [
    {
     "data": {
      "text/plain": [
       "\u001b[0;31mSignature:\u001b[0m\n",
       "\u001b[0mplt\u001b[0m\u001b[0;34m.\u001b[0m\u001b[0mscatter\u001b[0m\u001b[0;34m(\u001b[0m\u001b[0;34m\u001b[0m\n",
       "\u001b[0;34m\u001b[0m    \u001b[0mx\u001b[0m\u001b[0;34m,\u001b[0m\u001b[0;34m\u001b[0m\n",
       "\u001b[0;34m\u001b[0m    \u001b[0my\u001b[0m\u001b[0;34m,\u001b[0m\u001b[0;34m\u001b[0m\n",
       "\u001b[0;34m\u001b[0m    \u001b[0ms\u001b[0m\u001b[0;34m=\u001b[0m\u001b[0;32mNone\u001b[0m\u001b[0;34m,\u001b[0m\u001b[0;34m\u001b[0m\n",
       "\u001b[0;34m\u001b[0m    \u001b[0mc\u001b[0m\u001b[0;34m=\u001b[0m\u001b[0;32mNone\u001b[0m\u001b[0;34m,\u001b[0m\u001b[0;34m\u001b[0m\n",
       "\u001b[0;34m\u001b[0m    \u001b[0mmarker\u001b[0m\u001b[0;34m=\u001b[0m\u001b[0;32mNone\u001b[0m\u001b[0;34m,\u001b[0m\u001b[0;34m\u001b[0m\n",
       "\u001b[0;34m\u001b[0m    \u001b[0mcmap\u001b[0m\u001b[0;34m=\u001b[0m\u001b[0;32mNone\u001b[0m\u001b[0;34m,\u001b[0m\u001b[0;34m\u001b[0m\n",
       "\u001b[0;34m\u001b[0m    \u001b[0mnorm\u001b[0m\u001b[0;34m=\u001b[0m\u001b[0;32mNone\u001b[0m\u001b[0;34m,\u001b[0m\u001b[0;34m\u001b[0m\n",
       "\u001b[0;34m\u001b[0m    \u001b[0mvmin\u001b[0m\u001b[0;34m=\u001b[0m\u001b[0;32mNone\u001b[0m\u001b[0;34m,\u001b[0m\u001b[0;34m\u001b[0m\n",
       "\u001b[0;34m\u001b[0m    \u001b[0mvmax\u001b[0m\u001b[0;34m=\u001b[0m\u001b[0;32mNone\u001b[0m\u001b[0;34m,\u001b[0m\u001b[0;34m\u001b[0m\n",
       "\u001b[0;34m\u001b[0m    \u001b[0malpha\u001b[0m\u001b[0;34m=\u001b[0m\u001b[0;32mNone\u001b[0m\u001b[0;34m,\u001b[0m\u001b[0;34m\u001b[0m\n",
       "\u001b[0;34m\u001b[0m    \u001b[0mlinewidths\u001b[0m\u001b[0;34m=\u001b[0m\u001b[0;32mNone\u001b[0m\u001b[0;34m,\u001b[0m\u001b[0;34m\u001b[0m\n",
       "\u001b[0;34m\u001b[0m    \u001b[0;34m*\u001b[0m\u001b[0;34m,\u001b[0m\u001b[0;34m\u001b[0m\n",
       "\u001b[0;34m\u001b[0m    \u001b[0medgecolors\u001b[0m\u001b[0;34m=\u001b[0m\u001b[0;32mNone\u001b[0m\u001b[0;34m,\u001b[0m\u001b[0;34m\u001b[0m\n",
       "\u001b[0;34m\u001b[0m    \u001b[0mplotnonfinite\u001b[0m\u001b[0;34m=\u001b[0m\u001b[0;32mFalse\u001b[0m\u001b[0;34m,\u001b[0m\u001b[0;34m\u001b[0m\n",
       "\u001b[0;34m\u001b[0m    \u001b[0mdata\u001b[0m\u001b[0;34m=\u001b[0m\u001b[0;32mNone\u001b[0m\u001b[0;34m,\u001b[0m\u001b[0;34m\u001b[0m\n",
       "\u001b[0;34m\u001b[0m    \u001b[0;34m**\u001b[0m\u001b[0mkwargs\u001b[0m\u001b[0;34m,\u001b[0m\u001b[0;34m\u001b[0m\n",
       "\u001b[0;34m\u001b[0m\u001b[0;34m)\u001b[0m\u001b[0;34m\u001b[0m\u001b[0;34m\u001b[0m\u001b[0m\n",
       "\u001b[0;31mDocstring:\u001b[0m\n",
       "A scatter plot of *y* vs. *x* with varying marker size and/or color.\n",
       "\n",
       "Parameters\n",
       "----------\n",
       "x, y : float or array-like, shape (n, )\n",
       "    The data positions.\n",
       "\n",
       "s : float or array-like, shape (n, ), optional\n",
       "    The marker size in points**2.\n",
       "    Default is ``rcParams['lines.markersize'] ** 2``.\n",
       "\n",
       "c : array-like or list of colors or color, optional\n",
       "    The marker colors. Possible values:\n",
       "\n",
       "    - A scalar or sequence of n numbers to be mapped to colors using\n",
       "      *cmap* and *norm*.\n",
       "    - A 2D array in which the rows are RGB or RGBA.\n",
       "    - A sequence of colors of length n.\n",
       "    - A single color format string.\n",
       "\n",
       "    Note that *c* should not be a single numeric RGB or RGBA sequence\n",
       "    because that is indistinguishable from an array of values to be\n",
       "    colormapped. If you want to specify the same RGB or RGBA value for\n",
       "    all points, use a 2D array with a single row.  Otherwise, value-\n",
       "    matching will have precedence in case of a size matching with *x*\n",
       "    and *y*.\n",
       "\n",
       "    If you wish to specify a single color for all points\n",
       "    prefer the *color* keyword argument.\n",
       "\n",
       "    Defaults to `None`. In that case the marker color is determined\n",
       "    by the value of *color*, *facecolor* or *facecolors*. In case\n",
       "    those are not specified or `None`, the marker color is determined\n",
       "    by the next color of the ``Axes``' current \"shape and fill\" color\n",
       "    cycle. This cycle defaults to :rc:`axes.prop_cycle`.\n",
       "\n",
       "marker : `~.markers.MarkerStyle`, default: :rc:`scatter.marker`\n",
       "    The marker style. *marker* can be either an instance of the class\n",
       "    or the text shorthand for a particular marker.\n",
       "    See :mod:`matplotlib.markers` for more information about marker\n",
       "    styles.\n",
       "\n",
       "cmap : str or `~matplotlib.colors.Colormap`, default: :rc:`image.cmap`\n",
       "    A `.Colormap` instance or registered colormap name. *cmap* is only\n",
       "    used if *c* is an array of floats.\n",
       "\n",
       "norm : `~matplotlib.colors.Normalize`, default: None\n",
       "    If *c* is an array of floats, *norm* is used to scale the color\n",
       "    data, *c*, in the range 0 to 1, in order to map into the colormap\n",
       "    *cmap*.\n",
       "    If *None*, use the default `.colors.Normalize`.\n",
       "\n",
       "vmin, vmax : float, default: None\n",
       "    *vmin* and *vmax* are used in conjunction with the default norm to\n",
       "    map the color array *c* to the colormap *cmap*. If None, the\n",
       "    respective min and max of the color array is used.\n",
       "    It is an error to use *vmin*/*vmax* when *norm* is given.\n",
       "\n",
       "alpha : float, default: None\n",
       "    The alpha blending value, between 0 (transparent) and 1 (opaque).\n",
       "\n",
       "linewidths : float or array-like, default: :rc:`lines.linewidth`\n",
       "    The linewidth of the marker edges. Note: The default *edgecolors*\n",
       "    is 'face'. You may want to change this as well.\n",
       "\n",
       "edgecolors : {'face', 'none', *None*} or color or sequence of color, default: :rc:`scatter.edgecolors`\n",
       "    The edge color of the marker. Possible values:\n",
       "\n",
       "    - 'face': The edge color will always be the same as the face color.\n",
       "    - 'none': No patch boundary will be drawn.\n",
       "    - A color or sequence of colors.\n",
       "\n",
       "    For non-filled markers, *edgecolors* is ignored. Instead, the color\n",
       "    is determined like with 'face', i.e. from *c*, *colors*, or\n",
       "    *facecolors*.\n",
       "\n",
       "plotnonfinite : bool, default: False\n",
       "    Whether to plot points with nonfinite *c* (i.e. ``inf``, ``-inf``\n",
       "    or ``nan``). If ``True`` the points are drawn with the *bad*\n",
       "    colormap color (see `.Colormap.set_bad`).\n",
       "\n",
       "Returns\n",
       "-------\n",
       "`~matplotlib.collections.PathCollection`\n",
       "\n",
       "Other Parameters\n",
       "----------------\n",
       "data : indexable object, optional\n",
       "    If given, the following parameters also accept a string ``s``, which is\n",
       "    interpreted as ``data[s]`` (unless this raises an exception):\n",
       "\n",
       "    *x*, *y*, *s*, *linewidths*, *edgecolors*, *c*, *facecolor*, *facecolors*, *color*\n",
       "**kwargs : `~matplotlib.collections.Collection` properties\n",
       "\n",
       "See Also\n",
       "--------\n",
       "plot : To plot scatter plots when markers are identical in size and\n",
       "    color.\n",
       "\n",
       "Notes\n",
       "-----\n",
       "* The `.plot` function will be faster for scatterplots where markers\n",
       "  don't vary in size or color.\n",
       "\n",
       "* Any or all of *x*, *y*, *s*, and *c* may be masked arrays, in which\n",
       "  case all masks will be combined and only unmasked points will be\n",
       "  plotted.\n",
       "\n",
       "* Fundamentally, scatter works with 1D arrays; *x*, *y*, *s*, and *c*\n",
       "  may be input as N-D arrays, but within scatter they will be\n",
       "  flattened. The exception is *c*, which will be flattened only if its\n",
       "  size matches the size of *x* and *y*.\n",
       "\u001b[0;31mSource:\u001b[0m   \n",
       "\u001b[0;34m@\u001b[0m\u001b[0m_copy_docstring_and_deprecators\u001b[0m\u001b[0;34m(\u001b[0m\u001b[0mAxes\u001b[0m\u001b[0;34m.\u001b[0m\u001b[0mscatter\u001b[0m\u001b[0;34m)\u001b[0m\u001b[0;34m\u001b[0m\n",
       "\u001b[0;34m\u001b[0m\u001b[0;32mdef\u001b[0m \u001b[0mscatter\u001b[0m\u001b[0;34m(\u001b[0m\u001b[0;34m\u001b[0m\n",
       "\u001b[0;34m\u001b[0m        \u001b[0mx\u001b[0m\u001b[0;34m,\u001b[0m \u001b[0my\u001b[0m\u001b[0;34m,\u001b[0m \u001b[0ms\u001b[0m\u001b[0;34m=\u001b[0m\u001b[0;32mNone\u001b[0m\u001b[0;34m,\u001b[0m \u001b[0mc\u001b[0m\u001b[0;34m=\u001b[0m\u001b[0;32mNone\u001b[0m\u001b[0;34m,\u001b[0m \u001b[0mmarker\u001b[0m\u001b[0;34m=\u001b[0m\u001b[0;32mNone\u001b[0m\u001b[0;34m,\u001b[0m \u001b[0mcmap\u001b[0m\u001b[0;34m=\u001b[0m\u001b[0;32mNone\u001b[0m\u001b[0;34m,\u001b[0m \u001b[0mnorm\u001b[0m\u001b[0;34m=\u001b[0m\u001b[0;32mNone\u001b[0m\u001b[0;34m,\u001b[0m\u001b[0;34m\u001b[0m\n",
       "\u001b[0;34m\u001b[0m        \u001b[0mvmin\u001b[0m\u001b[0;34m=\u001b[0m\u001b[0;32mNone\u001b[0m\u001b[0;34m,\u001b[0m \u001b[0mvmax\u001b[0m\u001b[0;34m=\u001b[0m\u001b[0;32mNone\u001b[0m\u001b[0;34m,\u001b[0m \u001b[0malpha\u001b[0m\u001b[0;34m=\u001b[0m\u001b[0;32mNone\u001b[0m\u001b[0;34m,\u001b[0m \u001b[0mlinewidths\u001b[0m\u001b[0;34m=\u001b[0m\u001b[0;32mNone\u001b[0m\u001b[0;34m,\u001b[0m \u001b[0;34m*\u001b[0m\u001b[0;34m,\u001b[0m\u001b[0;34m\u001b[0m\n",
       "\u001b[0;34m\u001b[0m        \u001b[0medgecolors\u001b[0m\u001b[0;34m=\u001b[0m\u001b[0;32mNone\u001b[0m\u001b[0;34m,\u001b[0m \u001b[0mplotnonfinite\u001b[0m\u001b[0;34m=\u001b[0m\u001b[0;32mFalse\u001b[0m\u001b[0;34m,\u001b[0m \u001b[0mdata\u001b[0m\u001b[0;34m=\u001b[0m\u001b[0;32mNone\u001b[0m\u001b[0;34m,\u001b[0m \u001b[0;34m**\u001b[0m\u001b[0mkwargs\u001b[0m\u001b[0;34m)\u001b[0m\u001b[0;34m:\u001b[0m\u001b[0;34m\u001b[0m\n",
       "\u001b[0;34m\u001b[0m    \u001b[0m__ret\u001b[0m \u001b[0;34m=\u001b[0m \u001b[0mgca\u001b[0m\u001b[0;34m(\u001b[0m\u001b[0;34m)\u001b[0m\u001b[0;34m.\u001b[0m\u001b[0mscatter\u001b[0m\u001b[0;34m(\u001b[0m\u001b[0;34m\u001b[0m\n",
       "\u001b[0;34m\u001b[0m        \u001b[0mx\u001b[0m\u001b[0;34m,\u001b[0m \u001b[0my\u001b[0m\u001b[0;34m,\u001b[0m \u001b[0ms\u001b[0m\u001b[0;34m=\u001b[0m\u001b[0ms\u001b[0m\u001b[0;34m,\u001b[0m \u001b[0mc\u001b[0m\u001b[0;34m=\u001b[0m\u001b[0mc\u001b[0m\u001b[0;34m,\u001b[0m \u001b[0mmarker\u001b[0m\u001b[0;34m=\u001b[0m\u001b[0mmarker\u001b[0m\u001b[0;34m,\u001b[0m \u001b[0mcmap\u001b[0m\u001b[0;34m=\u001b[0m\u001b[0mcmap\u001b[0m\u001b[0;34m,\u001b[0m \u001b[0mnorm\u001b[0m\u001b[0;34m=\u001b[0m\u001b[0mnorm\u001b[0m\u001b[0;34m,\u001b[0m\u001b[0;34m\u001b[0m\n",
       "\u001b[0;34m\u001b[0m        \u001b[0mvmin\u001b[0m\u001b[0;34m=\u001b[0m\u001b[0mvmin\u001b[0m\u001b[0;34m,\u001b[0m \u001b[0mvmax\u001b[0m\u001b[0;34m=\u001b[0m\u001b[0mvmax\u001b[0m\u001b[0;34m,\u001b[0m \u001b[0malpha\u001b[0m\u001b[0;34m=\u001b[0m\u001b[0malpha\u001b[0m\u001b[0;34m,\u001b[0m \u001b[0mlinewidths\u001b[0m\u001b[0;34m=\u001b[0m\u001b[0mlinewidths\u001b[0m\u001b[0;34m,\u001b[0m\u001b[0;34m\u001b[0m\n",
       "\u001b[0;34m\u001b[0m        \u001b[0medgecolors\u001b[0m\u001b[0;34m=\u001b[0m\u001b[0medgecolors\u001b[0m\u001b[0;34m,\u001b[0m \u001b[0mplotnonfinite\u001b[0m\u001b[0;34m=\u001b[0m\u001b[0mplotnonfinite\u001b[0m\u001b[0;34m,\u001b[0m\u001b[0;34m\u001b[0m\n",
       "\u001b[0;34m\u001b[0m        \u001b[0;34m**\u001b[0m\u001b[0;34m(\u001b[0m\u001b[0;34m{\u001b[0m\u001b[0;34m\"data\"\u001b[0m\u001b[0;34m:\u001b[0m \u001b[0mdata\u001b[0m\u001b[0;34m}\u001b[0m \u001b[0;32mif\u001b[0m \u001b[0mdata\u001b[0m \u001b[0;32mis\u001b[0m \u001b[0;32mnot\u001b[0m \u001b[0;32mNone\u001b[0m \u001b[0;32melse\u001b[0m \u001b[0;34m{\u001b[0m\u001b[0;34m}\u001b[0m\u001b[0;34m)\u001b[0m\u001b[0;34m,\u001b[0m \u001b[0;34m**\u001b[0m\u001b[0mkwargs\u001b[0m\u001b[0;34m)\u001b[0m\u001b[0;34m\u001b[0m\n",
       "\u001b[0;34m\u001b[0m    \u001b[0msci\u001b[0m\u001b[0;34m(\u001b[0m\u001b[0m__ret\u001b[0m\u001b[0;34m)\u001b[0m\u001b[0;34m\u001b[0m\n",
       "\u001b[0;34m\u001b[0m    \u001b[0;32mreturn\u001b[0m \u001b[0m__ret\u001b[0m\u001b[0;34m\u001b[0m\u001b[0;34m\u001b[0m\u001b[0m\n",
       "\u001b[0;31mFile:\u001b[0m      ~/.cache/pypoetry/virtualenvs/binaries-statistics-m5WZwVZV-py3.10/lib/python3.10/site-packages/matplotlib/pyplot.py\n",
       "\u001b[0;31mType:\u001b[0m      function"
      ]
     },
     "metadata": {},
     "output_type": "display_data"
    }
   ],
   "source": [
    "plt.scatter??"
   ]
  },
  {
   "cell_type": "code",
   "execution_count": null,
   "id": "bf83e593-8292-424b-b602-12c924d5d7ec",
   "metadata": {},
   "outputs": [],
   "source": []
  }
 ],
 "metadata": {
  "kernelspec": {
   "display_name": "Python 3 (ipykernel)",
   "language": "python",
   "name": "python3"
  },
  "language_info": {
   "codemirror_mode": {
    "name": "ipython",
    "version": 3
   },
   "file_extension": ".py",
   "mimetype": "text/x-python",
   "name": "python",
   "nbconvert_exporter": "python",
   "pygments_lexer": "ipython3",
   "version": "3.10.6"
  }
 },
 "nbformat": 4,
 "nbformat_minor": 5
}
