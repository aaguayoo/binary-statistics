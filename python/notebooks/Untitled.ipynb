{
 "cells": [
  {
   "cell_type": "markdown",
   "id": "ce24135f-dce3-442b-98a0-95c35ba0f08c",
   "metadata": {},
   "source": [
    "# Binary stars statistics"
   ]
  },
  {
   "cell_type": "markdown",
   "id": "5a0babb5-739d-4f93-8e2a-e1e63bdb61f4",
   "metadata": {},
   "source": [
    "## Useful distributions"
   ]
  },
  {
   "cell_type": "code",
   "execution_count": 5,
   "id": "e8ade125-e78d-4bd9-bf29-0a2f03783db8",
   "metadata": {},
   "outputs": [],
   "source": [
    "from functools import partial\n",
    "from typing import Callable\n",
    "\n",
    "import matplotlib.pyplot as plt\n",
    "import numpy as np\n",
    "from pydantic.dataclasses import dataclass\n",
    "from scipy import interpolate\n",
    "from scipy.stats import rv_continuous"
   ]
  },
  {
   "cell_type": "code",
   "execution_count": 6,
   "id": "ae530c8a-0fc4-4b50-8279-19906a1d7345",
   "metadata": {},
   "outputs": [],
   "source": [
    "@dataclass\n",
    "class BaseDistribution:\n",
    "\n",
    "    dist_function: Callable\n",
    "    dist_parameters: dict = None\n",
    "    \n",
    "    def __post_init_post_parse__(self):\n",
    "        if not self.dist_parameters:\n",
    "            self.dist_parameters = {}\n",
    "        self._pdf = partial(self.dist_function,**self.dist_parameters)\n",
    "\n",
    "    def compute_pdf_norm(self, x:np.array):\n",
    "        self.norm_factor = (x.max() - x.min())/len(x)\n",
    "        if not hasattr(self, \"norm\"):\n",
    "            self.norm = sum(self._pdf(value)*self.norm_factor for value in x)\n",
    "\n",
    "    def cdf(self, x:np.array):\n",
    "        self.compute_pdf_norm(x)\n",
    "        pdf_values = self._pdf(x)\n",
    "        cumulative_sum = np.cumsum(pdf_values * self.norm_factor)\n",
    "        normalized_cumulative_sum = cumulative_sum / cumulative_sum[-1]\n",
    "        return normalized_cumulative_sum\n",
    "        \n",
    "    def pdf(self, x, isNormalized: bool = False):\n",
    "        self.compute_pdf_norm(x)\n",
    "        return self._pdf(x)/self.norm\n",
    "\n",
    "    def random_sample(self,x_min:float, x_max:float, size: int):\n",
    "        x = np.linspace(x_min, x_max, size)\n",
    "        cdf = self.cdf(x)\n",
    "\n",
    "        cdf_inv = interpolate.interp1d(cdf,x)\n",
    "\n",
    "        x_new = np.random.uniform(0.001,0.999,size=size)\n",
    "        return cdf_inv(x_new)"
   ]
  },
  {
   "cell_type": "code",
   "execution_count": 7,
   "id": "4b309f7f-7281-4288-9626-68f5659352f3",
   "metadata": {},
   "outputs": [],
   "source": [
    "def uniform(x):\n",
    "    return 1.0 if isinstance(x,float) else np.ones_like(x)"
   ]
  },
  {
   "cell_type": "code",
   "execution_count": 8,
   "id": "ee2f1041-c213-447d-b959-e5dc04ded03a",
   "metadata": {},
   "outputs": [],
   "source": [
    "uniform_dist = BaseDistribution(\n",
    "    dist_function=uniform,\n",
    ")"
   ]
  },
  {
   "cell_type": "code",
   "execution_count": 9,
   "id": "1a6d314a-4dd1-460c-b245-ffdffd4b9150",
   "metadata": {},
   "outputs": [
    {
     "data": {
      "image/png": "[encoded data removed]",
      "text/plain": [
       "<Figure size 640x480 with 1 Axes>"
      ]
     },
     "metadata": {},
     "output_type": "display_data"
    }
   ],
   "source": [
    "_=plt.hist(uniform_dist.random_sample(0,2*np.pi,10_000), bins=30, density=True, alpha=0.5, color=\"gray\")"
   ]
  },
  {
   "cell_type": "code",
   "execution_count": 10,
   "id": "7264f83a-e689-4a0c-be07-a0ac05f8102a",
   "metadata": {},
   "outputs": [],
   "source": [
    "def thermal(x):\n",
    "    return x"
   ]
  },
  {
   "cell_type": "code",
   "execution_count": 8,
   "id": "0de2d645-c724-4bd1-a97a-7d9519af0e2d",
   "metadata": {},
   "outputs": [],
   "source": [
    "thermal_dist = BaseDistribution(\n",
    "    dist_function=thermal\n",
    ")"
   ]
  },
  {
   "cell_type": "code",
   "execution_count": 9,
   "id": "7ba13fda-9d5a-4d7b-bc9a-9daab412d793",
   "metadata": {},
   "outputs": [
    {
     "data": {
      "image/png": "[encoded data removed]",
      "text/plain": [
       "<Figure size 640x480 with 1 Axes>"
      ]
     },
     "metadata": {},
     "output_type": "display_data"
    }
   ],
   "source": [
    "_=plt.hist(thermal_dist.random_sample(0,1,10_000), bins=30, density=True, alpha=0.5, color=\"gray\")"
   ]
  },
  {
   "cell_type": "code",
   "execution_count": 10,
   "id": "c6499bc2-cbec-4a06-bebd-5ec3a9e3405c",
   "metadata": {},
   "outputs": [],
   "source": [
    "def power_law(x):\n",
    "    return 1.0/x"
   ]
  },
  {
   "cell_type": "code",
   "execution_count": 11,
   "id": "399a70b8-fdd6-4a46-b73c-578116c407c6",
   "metadata": {},
   "outputs": [],
   "source": [
    "power_law_dist = BaseDistribution(\n",
    "    dist_function=power_law\n",
    ")"
   ]
  },
  {
   "cell_type": "code",
   "execution_count": 12,
   "id": "9d30f7a0-b482-4c26-b628-4c0ae59eb84d",
   "metadata": {},
   "outputs": [
    {
     "data": {
      "image/png": "[encoded data removed]",
      "text/plain": [
       "<Figure size 640x480 with 1 Axes>"
      ]
     },
     "metadata": {},
     "output_type": "display_data"
    }
   ],
   "source": [
    "_=plt.hist(power_law_dist.random_sample(200,2000,10_000), bins=30, density=True, alpha=0.5, color=\"gray\")"
   ]
  },
  {
   "cell_type": "code",
   "execution_count": null,
   "id": "e8951538-b6b9-43ed-bbf7-8ec53e5a5d98",
   "metadata": {},
   "outputs": [],
   "source": []
  }
 ],
 "metadata": {
  "kernelspec": {
   "display_name": "binaryStatistics",
   "language": "python",
   "name": "binarystatistics"
  },
  "language_info": {
   "codemirror_mode": {
    "name": "ipython",
    "version": 3
   },
   "file_extension": ".py",
   "mimetype": "text/x-python",
   "name": "python",
   "nbconvert_exporter": "python",
   "pygments_lexer": "ipython3",
   "version": "3.10.6"
  },
  "widgets": {
   "application/vnd.jupyter.widget-state+json": {
    "state": {},
    "version_major": 2,
    "version_minor": 0
   }
  }
 },
 "nbformat": 4,
 "nbformat_minor": 5
}
