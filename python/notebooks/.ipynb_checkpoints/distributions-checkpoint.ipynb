{
 "cells": [
  {
   "cell_type": "code",
   "execution_count": 81,
   "id": "d5a342ec-d297-4142-a0b4-c6b4b9a76e1c",
   "metadata": {
    "tags": []
   },
   "outputs": [
    {
     "name": "stdout",
     "output_type": "stream",
     "text": [
      "The autoreload extension is already loaded. To reload it, use:\n",
      "  %reload_ext autoreload\n"
     ]
    }
   ],
   "source": [
    "%load_ext autoreload\n",
    "%autoreload 2\n",
    "\n",
    "import matplotlib.pyplot as plt\n",
    "import numpy as np\n",
    "from pydantic.dataclasses import dataclass\n",
    "from pydantic import Field\n",
    "from sympy import integrate, lambdify, oo, symbols, Piecewise\n",
    "from sympy.core.symbol import Symbol\n",
    "\n",
    "from binaryStatistics.base_distribution import BaseDistribution"
   ]
  },
  {
   "cell_type": "code",
   "execution_count": 94,
   "id": "ecf387b4-2d0c-4c92-b55f-c77a46198bc5",
   "metadata": {
    "tags": []
   },
   "outputs": [],
   "source": [
    "@dataclass\n",
    "class Uniform(BaseDistribution):\n",
    "    \n",
    "    dist_parameters: dict = Field(default={})\n",
    "    \n",
    "    def __post_init_post_parse__(self):\n",
    "        super().__init__(self.dist_parameters)\n",
    "    \n",
    "    def distribution(self, x, a=None, b=None):\n",
    "        if a and b:\n",
    "            self.norm = 1 / (b - a)\n",
    "        else:\n",
    "            self.norm = 1\n",
    "            \n",
    "        if isinstance(x, Symbol):\n",
    "            return Piecewise(\n",
    "                (0, x < a),\n",
    "                (0, x > b),\n",
    "                (1 * self.norm, True)\n",
    "            )\n",
    "        if isinstance(x, int | float):\n",
    "            return 1 * self.norm if a <= x <= b else 0.0\n",
    "        if isinstance(x, np.ndarray):\n",
    "            return np.ones_like(x) * self.norm"
   ]
  },
  {
   "cell_type": "code",
   "execution_count": 95,
   "id": "8607c289-3200-4019-ad9e-39320b5022fe",
   "metadata": {
    "tags": []
   },
   "outputs": [],
   "source": [
    "uniform = Uniform(\n",
    "    dist_parameters={\n",
    "        \"a\": 0,\n",
    "        \"b\": 22,\n",
    "    }\n",
    ")"
   ]
  },
  {
   "cell_type": "code",
   "execution_count": 97,
   "id": "f4a9131c-0e03-484b-9a69-2e46eb3436fb",
   "metadata": {
    "tags": []
   },
   "outputs": [
    {
     "data": {
      "image/png": "[encoded data removed]",
      "text/plain": [
       "<Figure size 640x480 with 1 Axes>"
      ]
     },
     "metadata": {},
     "output_type": "display_data"
    }
   ],
   "source": [
    "_=plt.hist(uniform.random_sample(-1,1,100000), density=True)"
   ]
  },
  {
   "cell_type": "code",
   "execution_count": 98,
   "id": "dc8af2c1-a6c4-417c-8c63-25a9b2f701c2",
   "metadata": {
    "tags": []
   },
   "outputs": [
    {
     "data": {
      "text/latex": [
       "$\\displaystyle - \\min\\left(0, x\\right) + \\min\\left(22, x\\right)$"
      ],
      "text/plain": [
       "-Min(0, x) + Min(22, x)"
      ]
     },
     "metadata": {},
     "output_type": "display_data"
    }
   ],
   "source": [
    "uniform.display_cdf()"
   ]
  },
  {
   "cell_type": "code",
   "execution_count": 99,
   "id": "2e8138a2-39fe-4b9d-bf28-4da5de636f1d",
   "metadata": {
    "tags": []
   },
   "outputs": [
    {
     "data": {
      "text/latex": [
       "$\\displaystyle \\begin{cases} 0 & \\text{for}\\: x > 22 \\vee x < 0 \\\\1 & \\text{otherwise} \\end{cases}$"
      ],
      "text/plain": [
       "Piecewise((0, (x > 22) | (x < 0)), (1, True))"
      ]
     },
     "metadata": {},
     "output_type": "display_data"
    }
   ],
   "source": [
    "uniform.display_pdf()"
   ]
  },
  {
   "cell_type": "code",
   "execution_count": 103,
   "id": "c0b91cb8-1add-484b-a1b4-a83680c8aeb1",
   "metadata": {
    "tags": []
   },
   "outputs": [
    {
     "data": {
      "text/plain": [
       "array([1., 1., 1., 1., 1., 1., 1., 1., 1., 1., 1., 1., 1., 1., 1., 1., 1.,\n",
       "       1., 1., 1., 1., 1., 1., 1., 1., 1., 1., 1., 1., 1., 1., 1., 1., 1.,\n",
       "       1., 1., 1., 1., 1., 1., 1., 1., 1., 1., 1., 1., 1., 1., 1., 1.])"
      ]
     },
     "execution_count": 103,
     "metadata": {},
     "output_type": "execute_result"
    }
   ],
   "source": [
    "uniform.pdf(np.linspace(-1,0))"
   ]
  },
  {
   "cell_type": "code",
   "execution_count": 102,
   "id": "c446f17e-b598-4775-8fe1-51ed0ed9fcde",
   "metadata": {
    "tags": []
   },
   "outputs": [
    {
     "data": {
      "text/plain": [
       "array([0.02, 0.04, 0.06, 0.08, 0.1 , 0.12, 0.14, 0.16, 0.18, 0.2 , 0.22,\n",
       "       0.24, 0.26, 0.28, 0.3 , 0.32, 0.34, 0.36, 0.38, 0.4 , 0.42, 0.44,\n",
       "       0.46, 0.48, 0.5 , 0.52, 0.54, 0.56, 0.58, 0.6 , 0.62, 0.64, 0.66,\n",
       "       0.68, 0.7 , 0.72, 0.74, 0.76, 0.78, 0.8 , 0.82, 0.84, 0.86, 0.88,\n",
       "       0.9 , 0.92, 0.94, 0.96, 0.98, 1.  ])"
      ]
     },
     "execution_count": 102,
     "metadata": {},
     "output_type": "execute_result"
    }
   ],
   "source": [
    "uniform.cdf(np.linspace(-22,22))"
   ]
  },
  {
   "cell_type": "code",
   "execution_count": null,
   "id": "b90fa63b-db33-4796-aee0-88249b027d53",
   "metadata": {},
   "outputs": [],
   "source": []
  }
 ],
 "metadata": {
  "kernelspec": {
   "display_name": "binaryStatistics",
   "language": "python",
   "name": "binarystatistics"
  },
  "language_info": {
   "codemirror_mode": {
    "name": "ipython",
    "version": 3
   },
   "file_extension": ".py",
   "mimetype": "text/x-python",
   "name": "python",
   "nbconvert_exporter": "python",
   "pygments_lexer": "ipython3",
   "version": "3.10.6"
  }
 },
 "nbformat": 4,
 "nbformat_minor": 5
}
