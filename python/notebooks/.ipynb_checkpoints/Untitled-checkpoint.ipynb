{
 "cells": [
  {
   "cell_type": "markdown",
   "id": "ce24135f-dce3-442b-98a0-95c35ba0f08c",
   "metadata": {},
   "source": [
    "# Binary stars statistics"
   ]
  },
  {
   "cell_type": "markdown",
   "id": "5a0babb5-739d-4f93-8e2a-e1e63bdb61f4",
   "metadata": {},
   "source": [
    "## Useful distributions"
   ]
  },
  {
   "cell_type": "code",
   "execution_count": 1,
   "id": "e8ade125-e78d-4bd9-bf29-0a2f03783db8",
   "metadata": {},
   "outputs": [],
   "source": [
    "from functools import partial\n",
    "from typing import Callable\n",
    "\n",
    "import matplotlib.pyplot as plt\n",
    "import numpy as np\n",
    "from pydantic.dataclasses import dataclass\n",
    "from scipy import interpolate\n",
    "from scipy.stats import rv_continuous"
   ]
  },
  {
   "cell_type": "code",
   "execution_count": 2,
   "id": "236e6b22-30dd-4b8f-b74e-d4e567f0e2a7",
   "metadata": {},
   "outputs": [],
   "source": [
    "class UniformDistribution(rv_continuous):\n",
    "    \"\"\"Uniform Distribution - rv class.\"\"\"\n",
    "\n",
    "    def _pdf(self, x:float, min_value: float, max_value:float):\n",
    "        \"\"\"PDF method.\n",
    "\n",
    "        Parameters:\n",
    "            x (float):\n",
    "\n",
    "            min_value (float):\n",
    "\n",
    "            max_value (float):\n",
    "        \"\"\"\n",
    "        return 1.0/(max_value - min_value) "
   ]
  },
  {
   "cell_type": "code",
   "execution_count": 3,
   "id": "8782ce13-a43b-4445-9757-0b32af4ff26c",
   "metadata": {},
   "outputs": [],
   "source": [
    "x = np.linspace(0,10,1000)"
   ]
  },
  {
   "cell_type": "code",
   "execution_count": 4,
   "id": "cf16fe5e-eace-4534-bea2-eb106a05672a",
   "metadata": {},
   "outputs": [],
   "source": [
    "uniform = UniformDistribution(name='uniform', shapes='min_value, max_value')"
   ]
  },
  {
   "cell_type": "code",
   "execution_count": 5,
   "id": "ee75d191-c306-498e-8061-ca7285be8977",
   "metadata": {},
   "outputs": [],
   "source": [
    "def gaussian(x: float or np.array, mu: float = 0, std: float = 1):\n",
    "    return np.exp(-(x-mu)**2/(2*std**2))"
   ]
  },
  {
   "cell_type": "code",
   "execution_count": 62,
   "id": "ae530c8a-0fc4-4b50-8279-19906a1d7345",
   "metadata": {},
   "outputs": [],
   "source": [
    "@dataclass\n",
    "class BaseDistribution:\n",
    "\n",
    "    dist_function: Callable\n",
    "    dist_parameters: dict\n",
    "    \n",
    "    def __post_init_post_parse__(self):\n",
    "        self._pdf = partial(self.dist_function,**self.dist_parameters)\n",
    "\n",
    "    def compute_pdf_norm(self, x:np.array):\n",
    "        self.norm_factor = (x.max() - x.min())/len(x)\n",
    "        if not hasattr(self, \"norm\"):\n",
    "            self.norm = sum(self._pdf(value)*self.norm_factor for value in x)\n",
    "\n",
    "    def cdf(self, x:np.array):\n",
    "        self.compute_pdf_norm(x)\n",
    "        pdf_values = self._pdf(x)\n",
    "        cumulative_sum = np.cumsum(pdf_values * self.norm_factor)\n",
    "        normalized_cumulative_sum = cumulative_sum / cumulative_sum[-1]\n",
    "        return normalized_cumulative_sum\n",
    "        \n",
    "    def pdf(self, x, isNormalized: bool = False):\n",
    "        if isNormalized:\n",
    "            self.compute_pdf_norm(x)\n",
    "            \n",
    "        return self._pdf(x)/self.norm\n",
    "\n",
    "    def sample(self,x_min:float, x_max:float, size: int):\n",
    "        x = np.linspace(x_min, x_max, size)\n",
    "        cdf = self.cdf(x)\n",
    "\n",
    "        cdf_inv = interpolate.interp1d(cdf,x)\n",
    "\n",
    "        x_new = np.random.uniform(0.001,0.999,size=size)\n",
    "        return cdf_inv(x_new)"
   ]
  },
  {
   "cell_type": "code",
   "execution_count": 64,
   "id": "cd0e7efe-fd08-4e9b-86f1-2b5810e12b9e",
   "metadata": {},
   "outputs": [],
   "source": [
    "gaussian_dist = BaseDistribution(\n",
    "    dist_function=gaussian,\n",
    "    dist_parameters={\n",
    "        \"mu\": 5,\n",
    "        \"std\": 0.5,\n",
    "    }\n",
    ")"
   ]
  },
  {
   "cell_type": "code",
   "execution_count": 65,
   "id": "135a0cf2-c7cc-4c58-bab6-4c38025494b5",
   "metadata": {},
   "outputs": [],
   "source": [
    "x = np.linspace(0,10,1_000)"
   ]
  },
  {
   "cell_type": "code",
   "execution_count": 66,
   "id": "d515a5de-f2cd-473b-848b-2acf526efdad",
   "metadata": {},
   "outputs": [
    {
     "data": {
      "image/png": "[encoded data removed]",
      "text/plain": [
       "<Figure size 640x480 with 1 Axes>"
      ]
     },
     "metadata": {},
     "output_type": "display_data"
    }
   ],
   "source": [
    "plt.plot(x,gaussian_dist.pdf(x, isNormalized=True))\n",
    "plt.plot(x,gaussian_dist.cdf(x))\n",
    "_=plt.hist(gaussian_dist.sample(-10,10,100_000), bins=30, density=True, alpha=0.5, color=\"gray\")"
   ]
  },
  {
   "cell_type": "code",
   "execution_count": null,
   "id": "4b309f7f-7281-4288-9626-68f5659352f3",
   "metadata": {},
   "outputs": [],
   "source": []
  }
 ],
 "metadata": {
  "kernelspec": {
   "display_name": "binaryStatistics",
   "language": "python",
   "name": "binarystatistics"
  },
  "language_info": {
   "codemirror_mode": {
    "name": "ipython",
    "version": 3
   },
   "file_extension": ".py",
   "mimetype": "text/x-python",
   "name": "python",
   "nbconvert_exporter": "python",
   "pygments_lexer": "ipython3",
   "version": "3.10.6"
  }
 },
 "nbformat": 4,
 "nbformat_minor": 5
}
