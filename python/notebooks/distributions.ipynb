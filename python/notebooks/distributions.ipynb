{
 "cells": [
  {
   "cell_type": "code",
   "execution_count": 40,
   "id": "d5a342ec-d297-4142-a0b4-c6b4b9a76e1c",
   "metadata": {
    "tags": []
   },
   "outputs": [
    {
     "name": "stdout",
     "output_type": "stream",
     "text": [
      "The autoreload extension is already loaded. To reload it, use:\n",
      "  %reload_ext autoreload\n"
     ]
    }
   ],
   "source": [
    "%load_ext autoreload\n",
    "%autoreload 2\n",
    "\n",
    "import matplotlib.pyplot as plt\n",
    "import numpy as np\n",
    "from pydantic.dataclasses import dataclass\n",
    "from pydantic import Field\n",
    "from sympy import integrate, lambdify, oo, symbols, Piecewise\n",
    "from sympy.core.symbol import Symbol\n",
    "\n",
    "from binaryStatistics.base_distribution import BaseDistribution"
   ]
  },
  {
   "cell_type": "code",
   "execution_count": 41,
   "id": "ecf387b4-2d0c-4c92-b55f-c77a46198bc5",
   "metadata": {
    "tags": []
   },
   "outputs": [],
   "source": [
    "@dataclass\n",
    "class Uniform(BaseDistribution):\n",
    "    \n",
    "    dist_parameters: dict = Field(default={})\n",
    "    \n",
    "    def __post_init_post_parse__(self):\n",
    "        super().__init__(self.dist_parameters)\n",
    "    \n",
    "    def distribution(self, x, a=None, b=None):\n",
    "        if a and b:\n",
    "            self.norm = 1 / (b - a)\n",
    "        else:\n",
    "            self.norm = 1\n",
    "            \n",
    "        if isinstance(x, Symbol):\n",
    "            return Piecewise(\n",
    "                (0, x < a),\n",
    "                (0, x > b),\n",
    "                (1 * self.norm, True)\n",
    "            )\n",
    "        if isinstance(x, int | float):\n",
    "            return 1 * self.norm if a <= x <= b else 0.0\n",
    "        if isinstance(x, np.ndarray):\n",
    "            return np.piecewise(x, [(x < a), (x <= b) * (x >= a)], [0, 1 * self.norm])"
   ]
  },
  {
   "cell_type": "code",
   "execution_count": 46,
   "id": "8607c289-3200-4019-ad9e-39320b5022fe",
   "metadata": {
    "tags": []
   },
   "outputs": [],
   "source": [
    "uniform = Uniform(\n",
    ")"
   ]
  },
  {
   "cell_type": "code",
   "execution_count": 47,
   "id": "f4a9131c-0e03-484b-9a69-2e46eb3436fb",
   "metadata": {
    "tags": []
   },
   "outputs": [
    {
     "ename": "TypeError",
     "evalue": "'>=' not supported between instances of 'float' and 'NoneType'",
     "output_type": "error",
     "traceback": [
      "\u001b[0;31m---------------------------------------------------------------------------\u001b[0m",
      "\u001b[0;31mTypeError\u001b[0m                                 Traceback (most recent call last)",
      "Cell \u001b[0;32mIn[47], line 1\u001b[0m\n\u001b[0;32m----> 1\u001b[0m _\u001b[38;5;241m=\u001b[39mplt\u001b[38;5;241m.\u001b[39mhist(\u001b[43muniform\u001b[49m\u001b[38;5;241;43m.\u001b[39;49m\u001b[43mrandom_sample\u001b[49m\u001b[43m(\u001b[49m\u001b[38;5;241;43m-\u001b[39;49m\u001b[38;5;241;43m1\u001b[39;49m\u001b[43m,\u001b[49m\u001b[38;5;241;43m50\u001b[39;49m\u001b[43m,\u001b[49m\u001b[38;5;241;43m100000\u001b[39;49m\u001b[43m)\u001b[49m, density\u001b[38;5;241m=\u001b[39m\u001b[38;5;28;01mTrue\u001b[39;00m)\n",
      "File \u001b[0;32m~/DriveCiencias/AyudantiaSNI/binary-statistics/binary-statistics/python/binaryStatistics/base_distribution.py:72\u001b[0m, in \u001b[0;36mBaseDistribution.random_sample\u001b[0;34m(self, x_min, x_max, size)\u001b[0m\n\u001b[1;32m     70\u001b[0m \u001b[38;5;250m\u001b[39m\u001b[38;5;124;03m\"\"\"Random sample distribution.\"\"\"\u001b[39;00m\n\u001b[1;32m     71\u001b[0m x \u001b[38;5;241m=\u001b[39m np\u001b[38;5;241m.\u001b[39mlinspace(x_min, x_max, size)\n\u001b[0;32m---> 72\u001b[0m cdf \u001b[38;5;241m=\u001b[39m \u001b[38;5;28;43mself\u001b[39;49m\u001b[38;5;241;43m.\u001b[39;49m\u001b[43mcdf\u001b[49m\u001b[43m(\u001b[49m\u001b[43mx\u001b[49m\u001b[43m)\u001b[49m\n\u001b[1;32m     74\u001b[0m cdf_inv \u001b[38;5;241m=\u001b[39m interpolate\u001b[38;5;241m.\u001b[39minterp1d(cdf, x)\n\u001b[1;32m     76\u001b[0m x_new \u001b[38;5;241m=\u001b[39m np\u001b[38;5;241m.\u001b[39mrandom\u001b[38;5;241m.\u001b[39muniform(\u001b[38;5;241m0.01\u001b[39m, \u001b[38;5;241m0.99\u001b[39m, size\u001b[38;5;241m=\u001b[39msize)\n",
      "File \u001b[0;32m~/DriveCiencias/AyudantiaSNI/binary-statistics/binary-statistics/python/binaryStatistics/base_distribution.py:32\u001b[0m, in \u001b[0;36mBaseDistribution.cdf\u001b[0;34m(self, x)\u001b[0m\n\u001b[1;32m     30\u001b[0m \u001b[38;5;28;01mdef\u001b[39;00m \u001b[38;5;21mcdf\u001b[39m(\u001b[38;5;28mself\u001b[39m, x: np\u001b[38;5;241m.\u001b[39marray):\n\u001b[1;32m     31\u001b[0m \u001b[38;5;250m    \u001b[39m\u001b[38;5;124;03m\"\"\"Cumulative Distribution Function.\"\"\"\u001b[39;00m\n\u001b[0;32m---> 32\u001b[0m     \u001b[38;5;28;43mself\u001b[39;49m\u001b[38;5;241;43m.\u001b[39;49m\u001b[43m__compute_pdf_norm\u001b[49m\u001b[43m(\u001b[49m\u001b[43mx\u001b[49m\u001b[43m)\u001b[49m\n\u001b[1;32m     33\u001b[0m     pdf_values \u001b[38;5;241m=\u001b[39m \u001b[38;5;28mself\u001b[39m\u001b[38;5;241m.\u001b[39m_pdf(x)\n\u001b[1;32m     34\u001b[0m     cumulative_sum \u001b[38;5;241m=\u001b[39m np\u001b[38;5;241m.\u001b[39mcumsum(pdf_values \u001b[38;5;241m*\u001b[39m \u001b[38;5;28mself\u001b[39m\u001b[38;5;241m.\u001b[39mnorm_factor)\n",
      "File \u001b[0;32m~/DriveCiencias/AyudantiaSNI/binary-statistics/binary-statistics/python/binaryStatistics/base_distribution.py:28\u001b[0m, in \u001b[0;36mBaseDistribution.__compute_pdf_norm\u001b[0;34m(self, x)\u001b[0m\n\u001b[1;32m     26\u001b[0m \u001b[38;5;28mself\u001b[39m\u001b[38;5;241m.\u001b[39mnorm_factor \u001b[38;5;241m=\u001b[39m (x\u001b[38;5;241m.\u001b[39mmax() \u001b[38;5;241m-\u001b[39m x\u001b[38;5;241m.\u001b[39mmin()) \u001b[38;5;241m/\u001b[39m \u001b[38;5;28mlen\u001b[39m(x)\n\u001b[1;32m     27\u001b[0m \u001b[38;5;28;01mif\u001b[39;00m \u001b[38;5;129;01mnot\u001b[39;00m \u001b[38;5;28mhasattr\u001b[39m(\u001b[38;5;28mself\u001b[39m, \u001b[38;5;124m\"\u001b[39m\u001b[38;5;124mnorm\u001b[39m\u001b[38;5;124m\"\u001b[39m):\n\u001b[0;32m---> 28\u001b[0m     \u001b[38;5;28mself\u001b[39m\u001b[38;5;241m.\u001b[39mnorm \u001b[38;5;241m=\u001b[39m \u001b[38;5;241m1.0\u001b[39m \u001b[38;5;241m/\u001b[39m \u001b[38;5;28;43msum\u001b[39;49m\u001b[43m(\u001b[49m\u001b[38;5;28;43mself\u001b[39;49m\u001b[38;5;241;43m.\u001b[39;49m\u001b[43m_pdf\u001b[49m\u001b[43m(\u001b[49m\u001b[43mvalue\u001b[49m\u001b[43m)\u001b[49m\u001b[43m \u001b[49m\u001b[38;5;241;43m*\u001b[39;49m\u001b[43m \u001b[49m\u001b[38;5;28;43mself\u001b[39;49m\u001b[38;5;241;43m.\u001b[39;49m\u001b[43mnorm_factor\u001b[49m\u001b[43m \u001b[49m\u001b[38;5;28;43;01mfor\u001b[39;49;00m\u001b[43m \u001b[49m\u001b[43mvalue\u001b[49m\u001b[43m \u001b[49m\u001b[38;5;129;43;01min\u001b[39;49;00m\u001b[43m \u001b[49m\u001b[43mx\u001b[49m\u001b[43m)\u001b[49m\n",
      "File \u001b[0;32m~/DriveCiencias/AyudantiaSNI/binary-statistics/binary-statistics/python/binaryStatistics/base_distribution.py:28\u001b[0m, in \u001b[0;36m<genexpr>\u001b[0;34m(.0)\u001b[0m\n\u001b[1;32m     26\u001b[0m \u001b[38;5;28mself\u001b[39m\u001b[38;5;241m.\u001b[39mnorm_factor \u001b[38;5;241m=\u001b[39m (x\u001b[38;5;241m.\u001b[39mmax() \u001b[38;5;241m-\u001b[39m x\u001b[38;5;241m.\u001b[39mmin()) \u001b[38;5;241m/\u001b[39m \u001b[38;5;28mlen\u001b[39m(x)\n\u001b[1;32m     27\u001b[0m \u001b[38;5;28;01mif\u001b[39;00m \u001b[38;5;129;01mnot\u001b[39;00m \u001b[38;5;28mhasattr\u001b[39m(\u001b[38;5;28mself\u001b[39m, \u001b[38;5;124m\"\u001b[39m\u001b[38;5;124mnorm\u001b[39m\u001b[38;5;124m\"\u001b[39m):\n\u001b[0;32m---> 28\u001b[0m     \u001b[38;5;28mself\u001b[39m\u001b[38;5;241m.\u001b[39mnorm \u001b[38;5;241m=\u001b[39m \u001b[38;5;241m1.0\u001b[39m \u001b[38;5;241m/\u001b[39m \u001b[38;5;28msum\u001b[39m(\u001b[38;5;28;43mself\u001b[39;49m\u001b[38;5;241;43m.\u001b[39;49m\u001b[43m_pdf\u001b[49m\u001b[43m(\u001b[49m\u001b[43mvalue\u001b[49m\u001b[43m)\u001b[49m \u001b[38;5;241m*\u001b[39m \u001b[38;5;28mself\u001b[39m\u001b[38;5;241m.\u001b[39mnorm_factor \u001b[38;5;28;01mfor\u001b[39;00m value \u001b[38;5;129;01min\u001b[39;00m x)\n",
      "Cell \u001b[0;32mIn[41], line 22\u001b[0m, in \u001b[0;36mUniform.distribution\u001b[0;34m(self, x, a, b)\u001b[0m\n\u001b[1;32m     16\u001b[0m     \u001b[38;5;28;01mreturn\u001b[39;00m Piecewise(\n\u001b[1;32m     17\u001b[0m         (\u001b[38;5;241m0\u001b[39m, x \u001b[38;5;241m<\u001b[39m a),\n\u001b[1;32m     18\u001b[0m         (\u001b[38;5;241m0\u001b[39m, x \u001b[38;5;241m>\u001b[39m b),\n\u001b[1;32m     19\u001b[0m         (\u001b[38;5;241m1\u001b[39m \u001b[38;5;241m*\u001b[39m \u001b[38;5;28mself\u001b[39m\u001b[38;5;241m.\u001b[39mnorm, \u001b[38;5;28;01mTrue\u001b[39;00m)\n\u001b[1;32m     20\u001b[0m     )\n\u001b[1;32m     21\u001b[0m \u001b[38;5;28;01mif\u001b[39;00m \u001b[38;5;28misinstance\u001b[39m(x, \u001b[38;5;28mint\u001b[39m \u001b[38;5;241m|\u001b[39m \u001b[38;5;28mfloat\u001b[39m):\n\u001b[0;32m---> 22\u001b[0m     \u001b[38;5;28;01mreturn\u001b[39;00m \u001b[38;5;241m1\u001b[39m \u001b[38;5;241m*\u001b[39m \u001b[38;5;28mself\u001b[39m\u001b[38;5;241m.\u001b[39mnorm \u001b[38;5;28;01mif\u001b[39;00m a \u001b[38;5;241m<\u001b[39m\u001b[38;5;241m=\u001b[39m x \u001b[38;5;241m<\u001b[39m\u001b[38;5;241m=\u001b[39m b \u001b[38;5;28;01melse\u001b[39;00m \u001b[38;5;241m0.0\u001b[39m\n\u001b[1;32m     23\u001b[0m \u001b[38;5;28;01mif\u001b[39;00m \u001b[38;5;28misinstance\u001b[39m(x, np\u001b[38;5;241m.\u001b[39mndarray):\n\u001b[1;32m     24\u001b[0m     \u001b[38;5;28;01mreturn\u001b[39;00m np\u001b[38;5;241m.\u001b[39mpiecewise(x, [(x \u001b[38;5;241m<\u001b[39m a), (x \u001b[38;5;241m<\u001b[39m\u001b[38;5;241m=\u001b[39m b) \u001b[38;5;241m*\u001b[39m (x \u001b[38;5;241m>\u001b[39m\u001b[38;5;241m=\u001b[39m a)], [\u001b[38;5;241m0\u001b[39m, \u001b[38;5;241m1\u001b[39m \u001b[38;5;241m*\u001b[39m \u001b[38;5;28mself\u001b[39m\u001b[38;5;241m.\u001b[39mnorm])\n",
      "\u001b[0;31mTypeError\u001b[0m: '>=' not supported between instances of 'float' and 'NoneType'"
     ]
    }
   ],
   "source": [
    "_=plt.hist(uniform.random_sample(-1,50,100000), density=True)"
   ]
  },
  {
   "cell_type": "code",
   "execution_count": 36,
   "id": "dc8af2c1-a6c4-417c-8c63-25a9b2f701c2",
   "metadata": {
    "tags": []
   },
   "outputs": [
    {
     "data": {
      "text/latex": [
       "$\\displaystyle - \\min\\left(0, x\\right) + \\min\\left(22, x\\right)$"
      ],
      "text/plain": [
       "-Min(0, x) + Min(22, x)"
      ]
     },
     "metadata": {},
     "output_type": "display_data"
    }
   ],
   "source": [
    "uniform.display_cdf()"
   ]
  },
  {
   "cell_type": "code",
   "execution_count": 37,
   "id": "2e8138a2-39fe-4b9d-bf28-4da5de636f1d",
   "metadata": {
    "tags": []
   },
   "outputs": [
    {
     "data": {
      "text/latex": [
       "$\\displaystyle \\begin{cases} 0 & \\text{for}\\: x > 22 \\vee x < 0 \\\\1 & \\text{otherwise} \\end{cases}$"
      ],
      "text/plain": [
       "Piecewise((0, (x > 22) | (x < 0)), (1, True))"
      ]
     },
     "metadata": {},
     "output_type": "display_data"
    }
   ],
   "source": [
    "uniform.display_pdf()"
   ]
  },
  {
   "cell_type": "code",
   "execution_count": 38,
   "id": "c0b91cb8-1add-484b-a1b4-a83680c8aeb1",
   "metadata": {
    "tags": []
   },
   "outputs": [
    {
     "data": {
      "text/plain": [
       "array([0., 0., 0., 0., 0., 0., 0., 0., 0., 0., 0., 0., 0., 0., 0., 0., 0.,\n",
       "       0., 0., 0., 0., 0., 0., 0., 0., 0., 0., 0., 0., 0., 0., 0., 0., 0.,\n",
       "       0., 0., 0., 0., 0., 0., 0., 0., 0., 0., 0., 0., 0., 0., 0., 1.])"
      ]
     },
     "execution_count": 38,
     "metadata": {},
     "output_type": "execute_result"
    }
   ],
   "source": [
    "uniform.pdf(np.linspace(-1,0))"
   ]
  },
  {
   "cell_type": "code",
   "execution_count": 39,
   "id": "c446f17e-b598-4775-8fe1-51ed0ed9fcde",
   "metadata": {
    "tags": []
   },
   "outputs": [
    {
     "data": {
      "text/plain": [
       "array([0.  , 0.  , 0.  , 0.  , 0.  , 0.  , 0.  , 0.  , 0.  , 0.  , 0.  ,\n",
       "       0.  , 0.  , 0.  , 0.  , 0.  , 0.  , 0.  , 0.  , 0.  , 0.  , 0.  ,\n",
       "       0.  , 0.  , 0.  , 0.04, 0.08, 0.12, 0.16, 0.2 , 0.24, 0.28, 0.32,\n",
       "       0.36, 0.4 , 0.44, 0.48, 0.52, 0.56, 0.6 , 0.64, 0.68, 0.72, 0.76,\n",
       "       0.8 , 0.84, 0.88, 0.92, 0.96, 1.  ])"
      ]
     },
     "execution_count": 39,
     "metadata": {},
     "output_type": "execute_result"
    }
   ],
   "source": [
    "uniform.cdf(np.linspace(-22,22))"
   ]
  },
  {
   "cell_type": "code",
   "execution_count": null,
   "id": "c0336d7e-698a-472a-94bf-04de4a70fd7e",
   "metadata": {},
   "outputs": [],
   "source": []
  }
 ],
 "metadata": {
  "kernelspec": {
   "display_name": "binaryStatistics",
   "language": "python",
   "name": "binarystatistics"
  },
  "language_info": {
   "codemirror_mode": {
    "name": "ipython",
    "version": 3
   },
   "file_extension": ".py",
   "mimetype": "text/x-python",
   "name": "python",
   "nbconvert_exporter": "python",
   "pygments_lexer": "ipython3",
   "version": "3.10.6"
  }
 },
 "nbformat": 4,
 "nbformat_minor": 5
}
